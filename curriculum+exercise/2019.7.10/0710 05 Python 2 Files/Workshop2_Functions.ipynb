{
 "cells": [
  {
   "cell_type": "markdown",
   "metadata": {},
   "source": [
    "## 1.0  Simple Exercises for Functions"
   ]
  },
  {
   "cell_type": "markdown",
   "metadata": {},
   "source": [
    "Write a function that takes three integers as arguments and output the smallest of the three number without using the inbuilt min function"
   ]
  },
  {
   "cell_type": "code",
   "execution_count": 1,
   "metadata": {
    "collapsed": true
   },
   "outputs": [],
   "source": [
    "def sortFunc(a,b,c):\n"
   ]
  },
  {
   "cell_type": "code",
   "execution_count": 7,
   "metadata": {},
   "outputs": [
    {
     "data": {
      "text/plain": [
       "3"
      ]
     },
     "execution_count": 7,
     "metadata": {},
     "output_type": "execute_result"
    }
   ],
   "source": [
    "sortFunc(4,3,100)"
   ]
  },
  {
   "cell_type": "markdown",
   "metadata": {},
   "source": [
    "Now let us increase the difficulty a little and allow for an arbitrary number of arguments instead of three.\n",
    "Write a function that takes an arbitrary number of integers  and output the smallest positive number."
   ]
  },
  {
   "cell_type": "code",
   "execution_count": 4,
   "metadata": {
    "collapsed": true
   },
   "outputs": [],
   "source": [
    "def sortFuncArb(*args):\n"
   ]
  },
  {
   "cell_type": "code",
   "execution_count": 5,
   "metadata": {},
   "outputs": [
    {
     "data": {
      "text/plain": [
       "-2"
      ]
     },
     "execution_count": 5,
     "metadata": {},
     "output_type": "execute_result"
    }
   ],
   "source": [
    "sortFuncArb(1,4,5,6,8,9,5,-2,23,100)"
   ]
  },
  {
   "cell_type": "markdown",
   "metadata": {},
   "source": [
    "Write a function that takes an arbitrary number of integers  and output the smallest positive number."
   ]
  },
  {
   "cell_type": "code",
   "execution_count": 1,
   "metadata": {
    "collapsed": true
   },
   "outputs": [],
   "source": [
    "def sortFuncArbPos(*args):\n",
    "    # initialize the variable smallest with the first positive integer.  Once that is found, get out of this loop using the break\n"
   ]
  },
  {
   "cell_type": "code",
   "execution_count": 6,
   "metadata": {},
   "outputs": [
    {
     "data": {
      "text/plain": [
       "5"
      ]
     },
     "execution_count": 6,
     "metadata": {},
     "output_type": "execute_result"
    }
   ],
   "source": [
    "sortFuncArbPos(-1,-4,5,34,8,9,5,-2,23,100)"
   ]
  },
  {
   "cell_type": "markdown",
   "metadata": {},
   "source": [
    "## 2.0  Using Try and Except "
   ]
  },
  {
   "cell_type": "markdown",
   "metadata": {},
   "source": [
    "The try and except method is used within a function to catch specific type of errors that we expect.  Providing the function with this ability to catch the errors allow us to deal with the errors in a specific manner.  More importantly, it allows the program to continue running even if these errors are encountered.\n",
    "\n",
    "In this exercise, write a function to sum a series of number.  However, you understand that the person entering the numbers are a little careless and has entered some of the numbers incorrectly as strings.  You do not want to the program to terminate just because of these errors.  Instead you want to identify these numbers (their index and values) that are entered errorneously.  Create a list containing the index at which these errors occur and the values.  Continue adding the remaining numbers until the all the numbers are processed.\n",
    "\n",
    "The numbers are passed to the function in the form of a tuple object.\n",
    "\n",
    "For example, the series of numbers is given as:\n",
    "\n",
    "series = (1,2,3,4,5)\n",
    "\n",
    "You are supposed to pass series as argument into the function rather than 1,2,3,4,5"
   ]
  },
  {
   "cell_type": "code",
   "execution_count": 2,
   "metadata": {
    "collapsed": true
   },
   "outputs": [],
   "source": [
    "def sumSeries(*args):\n"
   ]
  },
  {
   "cell_type": "code",
   "execution_count": 3,
   "metadata": {},
   "outputs": [
    {
     "name": "stdout",
     "output_type": "stream",
     "text": [
      "The sum is:  15 \n",
      "\n",
      "The errors are [index, value]:  []\n"
     ]
    }
   ],
   "source": [
    "series = (1,2,3,4,5)\n",
    "sumSeries(*series)"
   ]
  },
  {
   "cell_type": "code",
   "execution_count": 4,
   "metadata": {},
   "outputs": [
    {
     "name": "stdout",
     "output_type": "stream",
     "text": [
      "The sum is:  9 \n",
      "\n",
      "The errors are [index, value]:  [[1, '2y'], [3, '4x']]\n"
     ]
    }
   ],
   "source": [
    "series = (1,'2y',3,'4x',5)\n",
    "sumSeries(*series)"
   ]
  },
  {
   "cell_type": "markdown",
   "metadata": {},
   "source": [
    "Now let us practice writing a function that calls another function.  \n",
    "\n",
    "Suppose you want to create a calculator to compute the cost of a trip some specific cities.\n",
    "\n",
    "You need to compute the cost of the airplane fare, the cost of accommodation, the spending money and the cost of rental car.\n",
    "\n",
    "Let use say the following information are given:\n",
    "\n",
    "Average spending money needed per person per day:  $220  (assume that it is the same for all cities)\n",
    "\n",
    "Average hotel rate per night in the following cities:\n",
    "\n",
    "Las Vegas $116\n",
    "New York $261\n",
    "Orlando $103\n",
    "Los Angeles $162\n",
    "San Diego  $145\n",
    "Chicago  $165\n",
    "San Francisco  $208\n",
    "Washington  $164\n",
    "Houston  $135\n",
    "San Antonio  $127\n",
    "\n",
    "Average return airfare  in the following cities:\n",
    "Las Vegas $1774\n",
    "New York $1479\n",
    "Orlando $1564\n",
    "Los Angeles $1878\n",
    "San Diego  $1695\n",
    "Chicago  $1717\n",
    "San Francisco  $1878\n",
    "Washington  $1781\n",
    "Houston  $1766\n",
    "San Antonio  $1649\n",
    "\n",
    "Car Rentals (assume the same for all cities):\n",
    "\n",
    "$72 per day\n",
    "$402 per week (7 days)\n",
    "$1,628 per month (30 days)\n",
    "\n",
    "\n",
    "You should have an input asking the user the destination and number of days they wish to spend at the destination.  \n",
    "Then write a function to compute the total cost."
   ]
  },
  {
   "cell_type": "markdown",
   "metadata": {},
   "source": [
    "First create a nested dictionary containing each cities airfare and daily accommodation.  "
   ]
  },
  {
   "cell_type": "code",
   "execution_count": null,
   "metadata": {
    "collapsed": true
   },
   "outputs": [],
   "source": [
    "import re\n"
   ]
  },
  {
   "cell_type": "code",
   "execution_count": 8,
   "metadata": {},
   "outputs": [
    {
     "data": {
      "text/plain": [
       "{'Chicago': '165',\n",
       " 'Houston': '135',\n",
       " 'Las Vegas': '116',\n",
       " 'Los Angeles': '162',\n",
       " 'New York': '261',\n",
       " 'Orlando': '103',\n",
       " 'San Antonio': '127',\n",
       " 'San Diego': '145',\n",
       " 'San Francisco': '208',\n",
       " 'Washington': '164'}"
      ]
     },
     "execution_count": 8,
     "metadata": {},
     "output_type": "execute_result"
    }
   ],
   "source": [
    "hotelRateDict"
   ]
  },
  {
   "cell_type": "code",
   "execution_count": null,
   "metadata": {},
   "outputs": [],
   "source": [
    "import re\n",
    "airfare = input()\n",
    "airfareList = re.split(r'[$]([0-9]+)\\s?',airfare)\n",
    "airfareDict = {}\n",
    "for i in range(0,len(airfareList)-1,2):\n",
    "    airfareDict[airfareList[i].rstrip()]= airfareList[i+1]"
   ]
  },
  {
   "cell_type": "code",
   "execution_count": null,
   "metadata": {
    "collapsed": true
   },
   "outputs": [],
   "source": [
    "airfareDict"
   ]
  },
  {
   "cell_type": "code",
   "execution_count": 11,
   "metadata": {},
   "outputs": [
    {
     "data": {
      "text/plain": [
       "'1717'"
      ]
     },
     "execution_count": 11,
     "metadata": {},
     "output_type": "execute_result"
    }
   ],
   "source": [
    "airfareDict['Chicago']"
   ]
  },
  {
   "cell_type": "code",
   "execution_count": 12,
   "metadata": {
    "collapsed": true
   },
   "outputs": [],
   "source": [
    "\n",
    "def airfare(city):\n",
    " \n",
    "\n",
    "def hotel(city,days):\n",
    " \n",
    "\n",
    "\n",
    "def car(days):\n",
    " \n",
    "    \n"
   ]
  },
  {
   "cell_type": "code",
   "execution_count": 13,
   "metadata": {},
   "outputs": [
    {
     "name": "stdout",
     "output_type": "stream",
     "text": [
      "day   1   72\n",
      "day   2   144\n",
      "day   3   216\n",
      "day   4   288\n",
      "day   5   360\n",
      "day   6   432\n",
      "day   7   402\n",
      "day   8   474\n",
      "day   9   546\n",
      "day   10   618\n",
      "day   11   690\n",
      "day   12   762\n",
      "day   13   834\n",
      "day   14   804\n",
      "day   15   876\n",
      "day   16   948\n",
      "day   17   1020\n",
      "day   18   1092\n",
      "day   19   1164\n",
      "day   20   1236\n",
      "day   21   1206\n",
      "day   22   1278\n",
      "day   23   1350\n",
      "day   24   1422\n",
      "day   25   1494\n",
      "day   26   1566\n",
      "day   27   1638\n",
      "day   28   1608\n",
      "day   29   1680\n",
      "day   30   1628\n",
      "day   31   1700\n"
     ]
    }
   ],
   "source": [
    "for i in range(1,32):\n",
    "    print('day   '+ str(i) + '   '+ str(car(i)))"
   ]
  },
  {
   "cell_type": "code",
   "execution_count": 14,
   "metadata": {},
   "outputs": [
    {
     "data": {
      "text/plain": [
       "270.0"
      ]
     },
     "execution_count": 14,
     "metadata": {},
     "output_type": "execute_result"
    }
   ],
   "source": [
    "hotel('Houston', 2)"
   ]
  },
  {
   "cell_type": "code",
   "execution_count": 1,
   "metadata": {
    "collapsed": true
   },
   "outputs": [],
   "source": [
    "def totalCost():\n",
    " \n",
    "    \n"
   ]
  },
  {
   "cell_type": "code",
   "execution_count": null,
   "metadata": {},
   "outputs": [
    {
     "name": "stdout",
     "output_type": "stream",
     "text": [
      "You can only go to the following cities\n",
      "\n",
      "\n",
      "New York Orlando Los Angeles San Diego Chicago San Francisco Washington Houston San Antonio \n",
      "\n"
     ]
    }
   ],
   "source": [
    "totalCost()"
   ]
  },
  {
   "cell_type": "markdown",
   "metadata": {},
   "source": [
    "Can you use a widget to create a dropdown list for them to select the cities that they want to visit.  This negates the need for them to type in the name of the city."
   ]
  },
  {
   "cell_type": "code",
   "execution_count": 7,
   "metadata": {
    "collapsed": true
   },
   "outputs": [],
   "source": [
    "import ipywidgets as widgets\n",
    " \n"
   ]
  },
  {
   "cell_type": "code",
   "execution_count": 8,
   "metadata": {},
   "outputs": [
    {
     "data": {
      "application/vnd.jupyter.widget-view+json": {
       "model_id": "4279ab834bd143fe88b0c49c7fed51f5",
       "version_major": 2,
       "version_minor": 0
      },
      "text/plain": [
       "interactive(children=(Dropdown(description='city', options=('New York', 'Orlando', 'Los Angeles', 'San Diego',…"
      ]
     },
     "metadata": {},
     "output_type": "display_data"
    }
   ],
   "source": [
    "widgets.interact(f, city =cities);"
   ]
  },
  {
   "cell_type": "code",
   "execution_count": 14,
   "metadata": {},
   "outputs": [
    {
     "data": {
      "text/plain": [
       "'Los Angeles'"
      ]
     },
     "execution_count": 14,
     "metadata": {},
     "output_type": "execute_result"
    }
   ],
   "source": [
    "city1"
   ]
  },
  {
   "cell_type": "code",
   "execution_count": null,
   "metadata": {},
   "outputs": [
    {
     "name": "stdout",
     "output_type": "stream",
     "text": [
      "Where do you wish to holiday in?\n"
     ]
    },
    {
     "data": {
      "application/vnd.jupyter.widget-view+json": {
       "model_id": "f532372d97d746429997652d171e893e",
       "version_major": 2,
       "version_minor": 0
      },
      "text/plain": [
       "interactive(children=(Dropdown(description='city', options=('New York', 'Orlando', 'Los Angeles', 'San Diego',…"
      ]
     },
     "metadata": {},
     "output_type": "display_data"
    }
   ],
   "source": [
    "import ipywidgets as widgets\n",
    "\n",
    "cities = ['New York', 'Orlando', 'Los Angeles', 'San Diego', 'Chicago', 'San Francisco', 'Washington', 'Houston', 'San Antonio']\n",
    "\n",
    "def dest(city):\n",
    " \n",
    "\n",
    "\n",
    "def totalCostD():\n",
    " \n",
    "    \n",
    "if __name__ == '__main__':totalCostD()"
   ]
  },
  {
   "cell_type": "code",
   "execution_count": null,
   "metadata": {
    "collapsed": true
   },
   "outputs": [],
   "source": []
  }
 ],
 "metadata": {
  "kernelspec": {
   "display_name": "Python 3",
   "language": "python",
   "name": "python3"
  },
  "language_info": {
   "codemirror_mode": {
    "name": "ipython",
    "version": 3
   },
   "file_extension": ".py",
   "mimetype": "text/x-python",
   "name": "python",
   "nbconvert_exporter": "python",
   "pygments_lexer": "ipython3",
   "version": "3.6.3"
  }
 },
 "nbformat": 4,
 "nbformat_minor": 2
}
