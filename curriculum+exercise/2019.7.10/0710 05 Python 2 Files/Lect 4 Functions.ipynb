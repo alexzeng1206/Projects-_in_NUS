{
 "cells": [
  {
   "cell_type": "markdown",
   "metadata": {},
   "source": [
    "## 1.0 Basic Facts About Functions"
   ]
  },
  {
   "cell_type": "markdown",
   "metadata": {},
   "source": [
    "Simple example of a function to do some operations on two numbers passed to it. \n",
    "\n",
    "Note in the two illustrations below the difference between having a __return__ and not having a __return statement__ in the function.\n",
    "\n",
    "In the first program below, note that we use a return function.\n",
    "After the function is called, the two values, summ and product are returned"
   ]
  },
  {
   "cell_type": "code",
   "execution_count": 11,
   "metadata": {},
   "outputs": [
    {
     "data": {
      "text/plain": [
       "(3, 2)"
      ]
     },
     "execution_count": 11,
     "metadata": {},
     "output_type": "execute_result"
    }
   ],
   "source": [
    "def oper_function(x,y):\n",
    "    summ = x+y\n",
    "    product = x*y\n",
    "    return summ, product\n",
    "\n",
    "oper_function(1,2)"
   ]
  },
  {
   "cell_type": "markdown",
   "metadata": {},
   "source": [
    "The next program below illustrates the assignment of the returned values from a function to other variables for further processing.\n",
    "\n",
    "We take the simple case of assigning the results to two variables and printing the results out"
   ]
  },
  {
   "cell_type": "code",
   "execution_count": 12,
   "metadata": {},
   "outputs": [
    {
     "name": "stdout",
     "output_type": "stream",
     "text": [
      "sum =  3 product =  2\n"
     ]
    }
   ],
   "source": [
    "def oper_function(x,y):\n",
    "    summ = x+y\n",
    "    product = x*y\n",
    "    return summ, product\n",
    "\n",
    "add, multiplication = oper_function(1,2)             #assign the value of summ to add, product to multiplication\n",
    "print('sum = ', add, 'product = ', multiplication)\n"
   ]
  },
  {
   "cell_type": "markdown",
   "metadata": {},
   "source": [
    "Let's see what happens when you remove the return statement from the function "
   ]
  },
  {
   "cell_type": "code",
   "execution_count": 13,
   "metadata": {},
   "outputs": [
    {
     "ename": "TypeError",
     "evalue": "'NoneType' object is not iterable",
     "output_type": "error",
     "traceback": [
      "\u001b[1;31m---------------------------------------------------------------------------\u001b[0m",
      "\u001b[1;31mTypeError\u001b[0m                                 Traceback (most recent call last)",
      "\u001b[1;32m<ipython-input-13-f3292379aa20>\u001b[0m in \u001b[0;36m<module>\u001b[1;34m()\u001b[0m\n\u001b[0;32m      4\u001b[0m \u001b[1;31m#    return summ, product    #comment out the return function\u001b[0m\u001b[1;33m\u001b[0m\u001b[1;33m\u001b[0m\u001b[0m\n\u001b[0;32m      5\u001b[0m \u001b[1;33m\u001b[0m\u001b[0m\n\u001b[1;32m----> 6\u001b[1;33m \u001b[0madd\u001b[0m\u001b[1;33m,\u001b[0m \u001b[0mmultiplication\u001b[0m \u001b[1;33m=\u001b[0m \u001b[0moper_function\u001b[0m\u001b[1;33m(\u001b[0m\u001b[1;36m1\u001b[0m\u001b[1;33m,\u001b[0m\u001b[1;36m2\u001b[0m\u001b[1;33m)\u001b[0m             \u001b[1;31m#assign the value of summ to add, product to multiplication\u001b[0m\u001b[1;33m\u001b[0m\u001b[0m\n\u001b[0m\u001b[0;32m      7\u001b[0m \u001b[0mprint\u001b[0m\u001b[1;33m(\u001b[0m\u001b[1;34m'sum = '\u001b[0m\u001b[1;33m,\u001b[0m \u001b[0madd\u001b[0m\u001b[1;33m,\u001b[0m \u001b[1;34m'product = '\u001b[0m\u001b[1;33m,\u001b[0m \u001b[0mmultiplication\u001b[0m\u001b[1;33m)\u001b[0m\u001b[1;33m\u001b[0m\u001b[0m\n",
      "\u001b[1;31mTypeError\u001b[0m: 'NoneType' object is not iterable"
     ]
    }
   ],
   "source": [
    "def oper_function(x,y):\n",
    "    summ = x+y\n",
    "    product = x*y\n",
    "#    return summ, product    #comment out the return function\n",
    "\n",
    "add, multiplication = oper_function(1,2)             #assign the value of summ to add, product to multiplication\n",
    "print('sum = ', add, 'product = ', multiplication)"
   ]
  },
  {
   "cell_type": "markdown",
   "metadata": {},
   "source": [
    "### 1.1 Passing Arguments"
   ]
  },
  {
   "cell_type": "markdown",
   "metadata": {},
   "source": [
    "The above examples all pass arguments by position, that is, the first argument passed is for the first position, second argument passed for the second position and so on.\n",
    "\n",
    "We can also pass arguments by keywords as seen in the example below.  We explicitly assign values to the arguments stating that x=4 and y=8.  Note that, in this case, the position does not matter.  We put y before x, reversing the position the arguments are defined in the def function statement.  This is fine as we explictly state the values to be passed to each argument."
   ]
  },
  {
   "cell_type": "code",
   "execution_count": 1,
   "metadata": {},
   "outputs": [
    {
     "data": {
      "text/plain": [
       "(12, -4)"
      ]
     },
     "execution_count": 1,
     "metadata": {},
     "output_type": "execute_result"
    }
   ],
   "source": [
    "def oper_function_keyword (x,y):\n",
    "    summ = x+y\n",
    "    minus = x-y\n",
    "    return summ, minus\n",
    "\n",
    "oper_function_keyword(y=8, x=4)"
   ]
  },
  {
   "cell_type": "markdown",
   "metadata": {},
   "source": [
    "The way we define functions above provides us with the option of using either keywords or position in passing arguments. \n",
    "\n",
    "What happens if we want the use of **keywords** to pass arguments to be **mandatory** rather than optional.  This can arise in situations when we want to avoid confusion as to what values are passed.\n",
    "\n",
    "We use the * symbol in the argument list to indicate the end of positional arguments and the beginning of keyword-only arguments.\n",
    "\n",
    "For example, we have a function to compute Body Mass Index (BMI).  There are only two arguments, weight and height.  You want to avoid the user passing the arguments in the wrong order and messing up the calculation.  Make the use of argument keywords mandatory."
   ]
  },
  {
   "cell_type": "code",
   "execution_count": 6,
   "metadata": {
    "collapsed": true
   },
   "outputs": [],
   "source": [
    "def BMI(* , wt, ht):\n",
    "    return wt/(ht*ht)"
   ]
  },
  {
   "cell_type": "code",
   "execution_count": 7,
   "metadata": {},
   "outputs": [
    {
     "data": {
      "text/plain": [
       "22.1606648199446"
      ]
     },
     "execution_count": 7,
     "metadata": {},
     "output_type": "execute_result"
    }
   ],
   "source": [
    "BMI(wt = 80, ht = 1.9)"
   ]
  },
  {
   "cell_type": "markdown",
   "metadata": {},
   "source": [
    "If you try to use BMI by passing values using position without stating the keywords, an error will result.\n",
    "See the illustration below."
   ]
  },
  {
   "cell_type": "code",
   "execution_count": 8,
   "metadata": {},
   "outputs": [
    {
     "ename": "TypeError",
     "evalue": "BMI() takes 0 positional arguments but 2 were given",
     "output_type": "error",
     "traceback": [
      "\u001b[1;31m---------------------------------------------------------------------------\u001b[0m",
      "\u001b[1;31mTypeError\u001b[0m                                 Traceback (most recent call last)",
      "\u001b[1;32m<ipython-input-8-3c48adcbb915>\u001b[0m in \u001b[0;36m<module>\u001b[1;34m()\u001b[0m\n\u001b[1;32m----> 1\u001b[1;33m \u001b[0mBMI\u001b[0m\u001b[1;33m(\u001b[0m\u001b[1;36m80\u001b[0m\u001b[1;33m,\u001b[0m\u001b[1;36m1.9\u001b[0m\u001b[1;33m)\u001b[0m\u001b[1;33m\u001b[0m\u001b[0m\n\u001b[0m",
      "\u001b[1;31mTypeError\u001b[0m: BMI() takes 0 positional arguments but 2 were given"
     ]
    }
   ],
   "source": [
    "BMI(80,1.9)"
   ]
  },
  {
   "cell_type": "markdown",
   "metadata": {},
   "source": [
    "### 1.2 Default Values for Arguments"
   ]
  },
  {
   "cell_type": "markdown",
   "metadata": {},
   "source": [
    "Arguments in a function can be given default values.  This is common in python library functions.\n",
    "\n",
    "When no arguments are passed during a call to the function, the default values are used.\n",
    "\n",
    "This is illustrated below."
   ]
  },
  {
   "cell_type": "code",
   "execution_count": 9,
   "metadata": {},
   "outputs": [
    {
     "data": {
      "text/plain": [
       "(30, -10)"
      ]
     },
     "execution_count": 9,
     "metadata": {},
     "output_type": "execute_result"
    }
   ],
   "source": [
    "def oper_function_default(x=10,y=20):\n",
    "    summ = x+y\n",
    "    minus = x-y\n",
    "    return summ, minus\n",
    "\n",
    "oper_function_default()"
   ]
  },
  {
   "cell_type": "markdown",
   "metadata": {},
   "source": [
    "### 1.3  Arbitrary Number of Arguments"
   ]
  },
  {
   "cell_type": "markdown",
   "metadata": {},
   "source": [
    "All the examples above deal with fixed numbers of arguments.  Suppose we do not know beforehand the number of arguments to be passed to a function.  How do we deal with this scenario?\n",
    "\n",
    "We can have the function take arbitrary number of arguments by using the term *args.  \n",
    "\n",
    "Th function below summVariable takes an arbitrary number of arguments.\n",
    "The purpose of the function is to add the numbers that are passed to summVariable.\n",
    "We do not know beforehand how many numbers will be passed.  \n",
    "\n",
    "The *args parameter in () allow variable number of arguments to be passed (including 0 arguments).  \n",
    "We do not have to call it *args.  Can even call it  *anything \n",
    "\n",
    "This is what the function does.\n",
    "\n",
    "1. Initialise the variable sum.  We are going to use this variable to keep track of the total as they are added.\n",
    "\n",
    "2.  Print the numbers that we pass to the function\n",
    "\n",
    "3.  The for-loop is an iterative loop.  It takes the one item at each iteration from the arguments (args) passed to the function.\n",
    "\n",
    "4.  As a check, we print the value of i at each iteration\n",
    "\n",
    "\n",
    "5.  We then add the value of i to the previously total of summ.\n",
    "\n",
    "6.  When all the items in the args that was passed to the function is read, the loop exits.\n",
    "\n",
    "7.  The return statement at the end of the function returns the value of the variable summ."
   ]
  },
  {
   "cell_type": "code",
   "execution_count": 11,
   "metadata": {
    "collapsed": true
   },
   "outputs": [],
   "source": [
    "def summVariable(*args):\t\t\t\t\n",
    "    print(\"The arguments passed in are \" + str(args))\n",
    "    summ = 0\n",
    "    for i in args:\n",
    "\t    print(\"The argument referenced by i is \" + str(i))\n",
    "\t    summ += i\n",
    "    return summ"
   ]
  },
  {
   "cell_type": "markdown",
   "metadata": {},
   "source": [
    "We use the function summVariable to add 4 numbers, starting from 1 and ending at 4\n",
    "\n",
    "The first print function prints the arguments we pass in.\n",
    "\n",
    "Note that it is a tuple (enclosed in the ())\n",
    "\n",
    "The results of the other print statement inside the for-loop shows that value of \"i\" at each iteration.\n",
    "\n",
    "Finally, the output from the function returns the value of the summ, which is the addition of the 4 numbers passed in."
   ]
  },
  {
   "cell_type": "code",
   "execution_count": 12,
   "metadata": {},
   "outputs": [
    {
     "name": "stdout",
     "output_type": "stream",
     "text": [
      "The arguments passed in are (1, 2, 3, 4)\n",
      "The argument referenced by i is 1\n",
      "The argument referenced by i is 2\n",
      "The argument referenced by i is 3\n",
      "The argument referenced by i is 4\n"
     ]
    },
    {
     "data": {
      "text/plain": [
       "10"
      ]
     },
     "execution_count": 12,
     "metadata": {},
     "output_type": "execute_result"
    }
   ],
   "source": [
    "summVariable(1,2,3,4)"
   ]
  },
  {
   "cell_type": "markdown",
   "metadata": {},
   "source": [
    "## 2.0 Local and Global Variables"
   ]
  },
  {
   "cell_type": "markdown",
   "metadata": {},
   "source": [
    "There is a difference between variables that are __defined outside any function__ and those that are __defined inside a function__.\n",
    "\n",
    "Variables defined **outside** a function are called **GLOBAL VARIABLES**.  GLOBAL VARAIBLES can be used anywhere in the module (or program), even inside a function.\n",
    "\n",
    "Variables defined **inside** a function are called **LOCAL VARIABLES**.  LOCAL VARIABLES can be used only inside the function where it is defined.  It cannot be used anywhere else in the module.\n",
    "\n",
    "Below is an illustration of the definition of two variables.  \n",
    "A global variable called x_global defined outside any function.\n",
    "Another variable called y_local is defined inside a function called print_global_local.\n",
    "\n",
    "The illustration shows that the **global variable, x_global**, can be used inside the function print_global_local.  The print statement within the function can print the value of the global variable."
   ]
  },
  {
   "cell_type": "code",
   "execution_count": 13,
   "metadata": {},
   "outputs": [
    {
     "name": "stdout",
     "output_type": "stream",
     "text": [
      "outside function =  Global Variable x . inside function =  passing this to function\n"
     ]
    }
   ],
   "source": [
    "x_global = 'Global Variable x'\n",
    "\n",
    "\n",
    "def print_global_local(anything):\n",
    "\n",
    "    y_local = anything\n",
    "    print ('outside function = ', x_global,'.', 'inside function = ', y_local)\n",
    "\n",
    "print_global_local('passing this to function')"
   ]
  },
  {
   "cell_type": "markdown",
   "metadata": {},
   "source": [
    "The illustration below shows that we can use the **global variable, x_global** anywhere in this module.  Here, we are print its value without any problem.\n",
    "\n",
    "However, note what happens when we try to use the **local variable y_local** that was defined in the function print_global_local.  Here, we try to use y_local outside of the function in which it was defined.  We get a NameError which says that this variable y_local was not defined.  This illustrates that variables defined inside a function cannot be used outside of the function."
   ]
  },
  {
   "cell_type": "code",
   "execution_count": 14,
   "metadata": {},
   "outputs": [
    {
     "name": "stdout",
     "output_type": "stream",
     "text": [
      "Global Variable x\n"
     ]
    }
   ],
   "source": [
    "print(x_global)"
   ]
  },
  {
   "cell_type": "code",
   "execution_count": 15,
   "metadata": {},
   "outputs": [
    {
     "ename": "NameError",
     "evalue": "name 'y_local' is not defined",
     "output_type": "error",
     "traceback": [
      "\u001b[1;31m---------------------------------------------------------------------------\u001b[0m",
      "\u001b[1;31mNameError\u001b[0m                                 Traceback (most recent call last)",
      "\u001b[1;32m<ipython-input-15-210ba8f2e2be>\u001b[0m in \u001b[0;36m<module>\u001b[1;34m()\u001b[0m\n\u001b[1;32m----> 1\u001b[1;33m \u001b[0mprint\u001b[0m\u001b[1;33m(\u001b[0m\u001b[0my_local\u001b[0m\u001b[1;33m)\u001b[0m\u001b[1;33m\u001b[0m\u001b[0m\n\u001b[0m",
      "\u001b[1;31mNameError\u001b[0m: name 'y_local' is not defined"
     ]
    }
   ],
   "source": [
    "print(y_local)"
   ]
  },
  {
   "cell_type": "markdown",
   "metadata": {},
   "source": [
    "What happens when the **local variable** defined inside a function has the **same name** as a **global variable**?\n",
    "\n",
    "The variable will **take the value assigned to it inside the function** and use that assigned value within the function.\n",
    "\n",
    "However, it **retains its original value outside the function** since what ever happens inside a fucntion does not affect the global variable that was defined outside that function.\n",
    "\n",
    "We illustrate with the case of x_global which is assigned the value 'Global Variable x' outside any function.\n",
    "\n",
    "A function print_local is defined and a local variable inside the function is given the name x_global, which is the same name as the global variable.\n",
    "\n",
    "This x_global is assigned a value inside the function and printed within the function.\n",
    "\n",
    "The illustration below shows that x_global takes the value that was assigned to it inside the function.  See the output from the function call when the string \"Mary had a little lamb\" was passed to the function print_local.\n",
    "\n",
    "However, outside the function, x_global retains its value of \"Global Variable x\" as seen by the statement printing x_global outside the function."
   ]
  },
  {
   "cell_type": "code",
   "execution_count": 16,
   "metadata": {},
   "outputs": [
    {
     "name": "stdout",
     "output_type": "stream",
     "text": [
      "Value of x_global inside function is:  Mary had a little lamb\n",
      "Value of x_global outside the function remains unchanged.  It is:  Global Variable x\n"
     ]
    }
   ],
   "source": [
    "x_global = 'Global Variable x'\n",
    "\n",
    "def print_local(EPP):\n",
    "\n",
    "    x_global = EPP\n",
    "    print ('Value of x_global inside function is: ', x_global)\n",
    "\n",
    "print_local('Mary had a little lamb')\n",
    "print('Value of x_global outside the function remains unchanged.  It is: ', x_global)"
   ]
  },
  {
   "cell_type": "code",
   "execution_count": 17,
   "metadata": {},
   "outputs": [
    {
     "name": "stdout",
     "output_type": "stream",
     "text": [
      "print change\n",
      "Value of x_global inside function is:  Mary had a little lamb\n",
      "Value of x_global outside the function remains unchanged.  It is:  Global Variable x\n"
     ]
    }
   ],
   "source": [
    "y_global = 'Global Variable y'\n",
    "\n",
    "def print_local(EPP):\n",
    "    y_global = 'change'\n",
    "    print('print' , y_global)\n",
    "    x_global = EPP\n",
    "    print ('Value of x_global inside function is: ', x_global)\n",
    "\n",
    "print_local('Mary had a little lamb')\n",
    "print('Value of x_global outside the function remains unchanged.  It is: ', x_global)"
   ]
  },
  {
   "cell_type": "markdown",
   "metadata": {},
   "source": [
    "##  3.0  Function as Argument"
   ]
  },
  {
   "cell_type": "markdown",
   "metadata": {},
   "source": [
    "The argument of one function can be another function.  Below is an illustration.\n",
    "\n",
    "Let's say you need to compute the cost of materials used in renovation.  The materials could be:\n",
    "1. tiles; or\n",
    "2. concrete\n",
    "\n",
    "The basic computation is just:\n",
    "\n",
    "    Cost = Quantity x Unit Cost\n",
    "    \n",
    "However, since you want to compute the cost for either the tiles or the concrete, the computation of quantity will be different.  This calls for the use of some complex if-loop that may make the code difficults to read.  Example \n",
    "\n",
    "       if material== 'concrete':\n",
    "           Quantity = ....\n",
    "       elif material == 'tile':\n",
    "           Quantity = ....\n",
    "           \n",
    "Imagine if there are a large number of possible materials.  The number of if-statements will be correspondingly large.\n",
    "\n",
    "The alternative is to create functions for computing the quantity of each material.\n",
    "\n",
    "Then have the final cost function call the specific functions that compute the cost of the material of interest.\n",
    "\n",
    "In this illustration, two different functions are written:  one to compute the the number of tiles needed and the other to compute the volume of concrete needed.\n",
    "\n",
    "Let's just take a look at the function no_of_tiles.\n",
    "The arguments needed are area_of_floor and area_of_tile.\n",
    "Very simply the number of tiles needed is easily computed as area_of_floor/area_of_tile\n",
    "But, we want to account for the possible wastage.  So we increase the number needed by 10%.  \n",
    "Also, it is possible to only buy an integer number of tiles.  So we make sure we round up (not down) the number of tiles by adding 0.5 to the answer and using the round() function.\n",
    "\n",
    "This accounts for the formula: \n",
    "no_of_tiles_needed = round(((area_of_floor/area_of_tile)*1.1)+0.5)\n",
    "We print the 'No of tiles needed'\n",
    "Then we return the answer for the no_of_tiles to another function for use in computing the cost.\n",
    "\n",
    "The reasoning for the function volume_of_concrete is the same\n",
    "\n",
    "Now look at the cost function.\n",
    "\n",
    "Three arguments are needed. \n",
    "1.  unit_cost is the unit cost of either a tile or a cubic metre of concrete depending on the specific material chosen\n",
    "2. func is the appropriate function to call to compute the quantity needed\n",
    "\n",
    "3. *args takes an arbitrary number of arguments. The arguments are those needed to compute the quantity of the specific material of interest.\n",
    "\n",
    "The cost_estimate computation is very simple.  It is quantity required x unit_cost\n",
    "\n",
    "The quantity required is computed by the func(*args).  If cost of tiles is required, the func = no_of_tiles, and the *args are mapped onto area_of_floor,area_of_tile.\n",
    "Therefore, when you wish to compute cost of tiles,  \n",
    "func(*args) = no_of_tiles(area_of_floor,area_of_tile)\n",
    "The call to this function has two output.  \n",
    "The first output is to print 'Number of tiles needed'\n",
    "The second output is to return the value of no_of_tiles_needed to the function cost that needs it to compute the cost_estimate\n",
    "\n",
    "The function cost prints out the 'Cost'"
   ]
  },
  {
   "cell_type": "code",
   "execution_count": 19,
   "metadata": {
    "collapsed": true
   },
   "outputs": [],
   "source": [
    "def no_of_tiles(area_of_floor,area_of_tile):\n",
    "    no_of_tiles_needed = round(((area_of_floor/area_of_tile)*1.1)+0.5)\n",
    "    print ('Number of tiles needed: ', no_of_tiles_needed)\n",
    "    return no_of_tiles_needed\n",
    "\n",
    "def volume_of_concrete(area_of_floor, thickness_of_concrete):\n",
    "    vol_of_concrete_needed = round(((area_of_floor* thickness_of_concrete)*1.2)+0.5)\n",
    "    print ('Volume of concrete needed: ', vol_of_concrete_needed)\n",
    "    return vol_of_concrete_needed\n",
    "\n",
    "def cost(unit_cost,func,*args):\n",
    "    cost_estimate = func(*args)*unit_cost\n",
    "    print('Cost: ', cost_estimate)"
   ]
  },
  {
   "cell_type": "markdown",
   "metadata": {},
   "source": [
    "Below is an illustration of the use of cost function to compute the cost of concrete.\n",
    "The unit_cost is $10\n",
    "The function passed to the func argument is volume_of_concrete\n",
    "The values to pass to volume_of_concrete function through the \\*args argument is 100, 0.05 representing the area_of_floor and thickness_of_concrete respectively\n",
    "\n",
    "There are two outputs\n",
    "\n",
    "Volume of concrete needed:  6  (This is from the function volume_of_concrete)\n",
    "Cost:  60 (This is from the function cost)"
   ]
  },
  {
   "cell_type": "code",
   "execution_count": 20,
   "metadata": {},
   "outputs": [
    {
     "name": "stdout",
     "output_type": "stream",
     "text": [
      "Volume of concrete needed:  6\n",
      "Cost:  60\n"
     ]
    }
   ],
   "source": [
    "cost(10,volume_of_concrete, 100, 0.05)"
   ]
  },
  {
   "cell_type": "markdown",
   "metadata": {},
   "source": [
    "## 4.0  Nested Functions (Function Generator of Function Factory)"
   ]
  },
  {
   "cell_type": "markdown",
   "metadata": {},
   "source": [
    "Functions can be nested within another function.  We call the the nested function the inner functions.  \n",
    "\n",
    "The inner functions can access the variables from the outer function.\n",
    "\n",
    "This structure of nesting functions makes the outer function a function generator or a function factory.  The outer function creates another function.\n",
    "\n",
    "The inner function cannot be accessed directly.\n",
    "\n",
    "Let us take a look at a simple illustration below.\n",
    "\n",
    "We want to make a multiplier function, named make_multiplier.  The argument x in the outer function is used by the inner function named multiply. Calling the outer function make_muliplier creates a new function which you can assign any name to.  This new function takes one argument and multiplies the argument passed to it by the value of x.  We have create an x-times table.\n",
    "\n",
    "We give an example whereby we pass 12 as an argument to make_multplier to make a new function that we name multply12.  The type(multiply12) confirms that multiply12 is a function.  Multply12 takes one argument - it actually is a proxy for the inner function (multiply) in our nested function.\n",
    "\n",
    "We can pass any number to multiply12 and it will give a result of 12 x (number passed to it)\n",
    "For example, multiply12(10) uses this statement from the inner function:\n",
    "\n",
    "    return x * y  \n",
    "    \n",
    "    where \n",
    "    \n",
    "    x = 12 (defined when the multiply12 function was created)\n",
    "    y = 10 (the argument passed to multiply12() function)\n",
    "    \n",
    "    The resulting output returned is 120"
   ]
  },
  {
   "cell_type": "code",
   "execution_count": 21,
   "metadata": {
    "collapsed": true
   },
   "outputs": [],
   "source": [
    "def make_multiplier(x):\n",
    "    def multiply(y):\n",
    "        return x*y\n",
    "    return multiply"
   ]
  },
  {
   "cell_type": "code",
   "execution_count": 22,
   "metadata": {},
   "outputs": [
    {
     "data": {
      "text/plain": [
       "function"
      ]
     },
     "execution_count": 22,
     "metadata": {},
     "output_type": "execute_result"
    }
   ],
   "source": [
    "multiply12 = make_multiplier(12)\n",
    "type(multiply12)"
   ]
  },
  {
   "cell_type": "code",
   "execution_count": 23,
   "metadata": {},
   "outputs": [
    {
     "data": {
      "text/plain": [
       "120"
      ]
     },
     "execution_count": 23,
     "metadata": {},
     "output_type": "execute_result"
    }
   ],
   "source": [
    "multiply12(10)"
   ]
  },
  {
   "cell_type": "code",
   "execution_count": 24,
   "metadata": {
    "collapsed": true
   },
   "outputs": [],
   "source": [
    "def make_subtract(out_x):\n",
    "    def subtract(inn_y):\n",
    "        return out_x-inn_y\n",
    "    return subtract"
   ]
  },
  {
   "cell_type": "code",
   "execution_count": 25,
   "metadata": {
    "collapsed": true
   },
   "outputs": [],
   "source": [
    "subtract12 = make_subtract(20)"
   ]
  },
  {
   "cell_type": "code",
   "execution_count": 26,
   "metadata": {},
   "outputs": [
    {
     "data": {
      "text/plain": [
       "10"
      ]
     },
     "execution_count": 26,
     "metadata": {},
     "output_type": "execute_result"
    }
   ],
   "source": [
    "subtract12(10)"
   ]
  },
  {
   "cell_type": "markdown",
   "metadata": {},
   "source": [
    "## 5.0  Recursive Functions"
   ]
  },
  {
   "cell_type": "markdown",
   "metadata": {},
   "source": [
    "A recursive function calls itself one or more times. \n",
    "\n",
    "An example of a recursive function is one written to compute the factorial of any positive integer, factorial(n), illustrated below.\n",
    "\n",
    "factorial(n) calls itself in the return statement:\n",
    "\n",
    "    return n*factorial(n-1)\n",
    "\n",
    "Since, it calls itself, it may actually go into an infinite loop.  Or stop only when it encounters an error.\n",
    "\n",
    "Thus, it is necessary to write a stopping condition within the recursive function.  In the function for computing the factorial a positive integer, this condition is:\n",
    "\n",
    "    if n == 1:\n",
    "        return 1\n",
    "\n",
    "\n",
    "Let's trace through what happens when we call the function factorial(4).\n",
    "\n",
    "As long a n == 1 is false, the if-block is not executed.\n",
    "\n",
    "Let's examine the following statement as it iterates recursively through the function.\n",
    "\n",
    "return n*factorial(n-1)\n",
    "\n",
    "iteration 1, factorial(4), n = 4, result of statment 4*factorial(3)\n",
    "iteration 2, factorial(3), n = 3, result of statment 3*factorial(2) \n",
    "iteration 3, factorial(2), n = 2, result of statment 2*factorial(1)\n",
    "iteration 4, factorial(1), n = 1, return 1 (the if statement execcuted)\n",
    "\n",
    "\n",
    "So putting all the iterations together, the recursive equation becomes:\n",
    "\n",
    "4 x factorial(3)\n",
    "= 4 x 3 x factorial(2)\n",
    "= 4 x 3 x 2 x factorial(1)\n",
    "= 4 x 3 x 2 x 1"
   ]
  },
  {
   "cell_type": "code",
   "execution_count": 27,
   "metadata": {
    "collapsed": true
   },
   "outputs": [],
   "source": [
    "def factorial(n):\n",
    "    if n == 1:\n",
    "        return 1\n",
    "    return n*factorial(n-1)\n",
    "    "
   ]
  },
  {
   "cell_type": "code",
   "execution_count": 28,
   "metadata": {},
   "outputs": [
    {
     "data": {
      "text/plain": [
       "24"
      ]
     },
     "execution_count": 28,
     "metadata": {},
     "output_type": "execute_result"
    }
   ],
   "source": [
    "factorial(4)"
   ]
  },
  {
   "cell_type": "markdown",
   "metadata": {},
   "source": [
    "A recursion function is more elegant than the alternative of using loops.  \n",
    "\n",
    "For example, we want to sum up the present value of receiving $x per year, for n years starting from now.  Assume that the time value of money is i%.\n",
    "\n",
    "We can write a loop for the n years of payment. \n",
    "\n",
    "A more elegant alternative in the form of recursion function is given below"
   ]
  },
  {
   "cell_type": "code",
   "execution_count": 29,
   "metadata": {
    "collapsed": true
   },
   "outputs": [],
   "source": [
    "def PV(money_per_year,no_of_payments,discount_rate):\n",
    "    if no_of_payments == 1:\n",
    "        return money_per_year\n",
    "    else:\n",
    "        discounted_value = (money_per_year)/(1+discount_rate)**(no_of_payments-1)\n",
    "        return discounted_value + PV(money_per_year,no_of_payments-1,discount_rate) "
   ]
  },
  {
   "cell_type": "code",
   "execution_count": 30,
   "metadata": {},
   "outputs": [
    {
     "data": {
      "text/plain": [
       "2084.03"
      ]
     },
     "execution_count": 30,
     "metadata": {},
     "output_type": "execute_result"
    }
   ],
   "source": [
    "round(PV(100,100,0.05),2)"
   ]
  },
  {
   "cell_type": "markdown",
   "metadata": {},
   "source": [
    "## 6.0 Lambda Functions"
   ]
  },
  {
   "cell_type": "markdown",
   "metadata": {},
   "source": [
    "Lambda functions are anonymous, un-named functions.  They are throw-away functions that are created at the point in the code where they are needed.\n",
    "\n",
    "They are fairly simple functions that are only called once.\n",
    "\n",
    "The general syntax of the lambda function is:\n",
    "\n",
    "lambda argument_list: expression  (lambda function only takes a single expression. This expression MUST return a value)\n",
    "\n",
    "Below is a simple example of a lambda function\n",
    "\n",
    "Note that the lambda function does not contain a \"return\" statement.  It always contains an expression that returns a value."
   ]
  },
  {
   "cell_type": "code",
   "execution_count": 31,
   "metadata": {},
   "outputs": [
    {
     "data": {
      "text/plain": [
       "11"
      ]
     },
     "execution_count": 31,
     "metadata": {},
     "output_type": "execute_result"
    }
   ],
   "source": [
    "summ = lambda x,y : x + y\n",
    "summ(5,6)"
   ]
  },
  {
   "cell_type": "markdown",
   "metadata": {},
   "source": [
    "The lambda function is usually used with the map function.  The map function has the following form:\n",
    "\n",
    "map(func, seq)\n",
    "\n",
    "where \n",
    "\n",
    "func = is the name of a function, which can be a lambda function, python built-in, library functions \n",
    "seq is a sequence of series data (eg. list) to which the func is applied.\n",
    "\n",
    "For example, if we want to convert a list of temperatures given in Farenheit to Celcius, we need to apply the following function\n",
    "\n",
    "Celcius = __(5/9)*(Farenheit-32)__\n",
    "\n",
    "We can code the right hand side of the above equation as a lambda function as in the example below\n",
    "\n",
    "Note that the result of a map function is not a another list.  It is an iterator.\n",
    "\n",
    "An iterator is:  \n",
    "\n",
    "1.  an object that can be looped over \n",
    "2.  has a state that remembers where it is during an iteration\n",
    "3.  returns the next value in the iteration\n",
    "4.  updates the state to next point after returning next value in (3)\n",
    "\n",
    "We cannot see the contents of an iterator directly.  Instead, we need to write a loop to extract the values or use the list() function to see the values."
   ]
  },
  {
   "cell_type": "code",
   "execution_count": 34,
   "metadata": {},
   "outputs": [
    {
     "data": {
      "text/plain": [
       "[1, 4, 9, 16, 25]"
      ]
     },
     "execution_count": 34,
     "metadata": {},
     "output_type": "execute_result"
    }
   ],
   "source": [
    "xlist = list(range(1,6))\n",
    "ylist = map((lambda y: y**2), xlist)\n",
    "list(ylist)"
   ]
  },
  {
   "cell_type": "code",
   "execution_count": 35,
   "metadata": {},
   "outputs": [
    {
     "data": {
      "text/plain": [
       "<map at 0x250c5b063c8>"
      ]
     },
     "execution_count": 35,
     "metadata": {},
     "output_type": "execute_result"
    }
   ],
   "source": [
    "Farenheit = [102, 98, 99 ,101,100]\n",
    "Celcius = map((lambda x: round(((5/9)*(x-32)),2)),Farenheit )\n",
    "Celcius"
   ]
  },
  {
   "cell_type": "code",
   "execution_count": 36,
   "metadata": {},
   "outputs": [
    {
     "data": {
      "text/plain": [
       "[38.89, 36.67, 37.22, 38.33, 37.78]"
      ]
     },
     "execution_count": 36,
     "metadata": {},
     "output_type": "execute_result"
    }
   ],
   "source": [
    "list(Celcius)"
   ]
  },
  {
   "cell_type": "markdown",
   "metadata": {},
   "source": [
    "Note that the iterator Celcius is empty after it is iterated through the list() method in the first instance."
   ]
  },
  {
   "cell_type": "code",
   "execution_count": 37,
   "metadata": {},
   "outputs": [
    {
     "data": {
      "text/plain": [
       "[]"
      ]
     },
     "execution_count": 37,
     "metadata": {},
     "output_type": "execute_result"
    }
   ],
   "source": [
    "list(Celcius)"
   ]
  },
  {
   "cell_type": "markdown",
   "metadata": {},
   "source": [
    "Another use of the map and lambda function is shown below.  The function outputs the length of words in a list.  "
   ]
  },
  {
   "cell_type": "code",
   "execution_count": 39,
   "metadata": {},
   "outputs": [
    {
     "name": "stdout",
     "output_type": "stream",
     "text": [
      "['Success', 'is', 'not', 'final.', 'Failure', 'is', 'not', 'fatal.', 'It', 'is', 'the', 'courage', 'to', 'continue', 'that', 'counts']\n"
     ]
    },
    {
     "data": {
      "text/plain": [
       "[7, 2, 3, 6, 7, 2, 3, 6, 2, 2, 3, 7, 2, 8, 4, 6]"
      ]
     },
     "execution_count": 39,
     "metadata": {},
     "output_type": "execute_result"
    }
   ],
   "source": [
    "sentence = 'Success is not final. Failure is not fatal. It is the courage to continue that counts'\n",
    "words = sentence.split()\n",
    "print(words)\n",
    "length_of_words = map(lambda x: len(x),words)\n",
    "list(length_of_words)"
   ]
  },
  {
   "cell_type": "markdown",
   "metadata": {},
   "source": [
    "Another common use of the lambda function is with the filter function.  The filter function is used either to filter out items or to select items that we want from a sequence.\n",
    "\n",
    "Let's say we wish to form a new sequence (eg. a list) from an existing sequence (list).  We run each item from the existing sequence through a lambda function.  This item is included in the new sequence only if it returns a Boolean True value after being run through the lambda function.  It is not in the new sequence if it returns the value of False.\n",
    "\n",
    "The filter function has a syntax:  filter(func, seq)\n",
    "\n",
    "where \n",
    "\n",
    "func = is the name of a function that returns a Boolean value for each item in the sequence\n",
    "seq is a sequence of data (eg list) where the func is applied to.\n",
    "\n",
    "\n",
    "Let's say we have a list of integers from which we want to select the odd numbers to put into a new list. We check each number on the exsting list to see if they are odd.  If True, we put the number in the new list.\n",
    "\n",
    "Below is an example of a code to achieve this.\n",
    "\n",
    "\n",
    "The example below takes a number_list consisting of numbers in a Fibonacci series that are below 100.\n",
    "\n",
    "We want to take the odd numbers from number_list and put them in the new list called odd_numbers.\n",
    "\n",
    "We apply the lamda function:  lambda x: x%2 to for each number in number_list.  Ther modulo function x%2, checks the remainder of each number when divided by 2.\n",
    "\n",
    "x%2 will return 0 if x is divisible by 2, and non-zero otherwise.\n",
    "\n",
    "In Boolean terms, 0 is equivalent to False and non-zero equivalent to True.\n",
    "\n",
    "Hence, all even numbers in the number_list evaluated by the lambda function x%2 will be 0.  They will return a value of  False and hence filtered out and not be put in the odd_numbers list\n",
    "\n",
    "All odd numbers evaluated by the lambda function will return a value of 1.  This is a Boolean True value.  They will be selected and put in the odd_number list.\n"
   ]
  },
  {
   "cell_type": "code",
   "execution_count": 40,
   "metadata": {},
   "outputs": [
    {
     "data": {
      "text/plain": [
       "[1, 1, 3, 5, 13, 21, 55, 89]"
      ]
     },
     "execution_count": 40,
     "metadata": {},
     "output_type": "execute_result"
    }
   ],
   "source": [
    "number_list = [0,1,1,2,3,5,8,13,21,34,55,89]\n",
    "odd_numbers = filter(lambda x: x%2,number_list)\n",
    "list(odd_numbers)"
   ]
  },
  {
   "cell_type": "code",
   "execution_count": 41,
   "metadata": {},
   "outputs": [
    {
     "name": "stdout",
     "output_type": "stream",
     "text": [
      "[0, 1, 1, 2, 3, 5, 8, 13, 21, 34, 55, 89]\n"
     ]
    }
   ],
   "source": [
    "fiblist = []\n",
    "fiblist.append(0)\n",
    "fiblist.append(1)\n",
    "i =2\n",
    "while i<12:\n",
    "    fiblist.append(fiblist[i-2]+fiblist[i-1])\n",
    "    i+=1\n",
    "print(fiblist)"
   ]
  },
  {
   "cell_type": "code",
   "execution_count": null,
   "metadata": {
    "collapsed": true
   },
   "outputs": [],
   "source": []
  }
 ],
 "metadata": {
  "kernelspec": {
   "display_name": "Python 3",
   "language": "python",
   "name": "python3"
  },
  "language_info": {
   "codemirror_mode": {
    "name": "ipython",
    "version": 3
   },
   "file_extension": ".py",
   "mimetype": "text/x-python",
   "name": "python",
   "nbconvert_exporter": "python",
   "pygments_lexer": "ipython3",
   "version": "3.6.3"
  }
 },
 "nbformat": 4,
 "nbformat_minor": 2
}
