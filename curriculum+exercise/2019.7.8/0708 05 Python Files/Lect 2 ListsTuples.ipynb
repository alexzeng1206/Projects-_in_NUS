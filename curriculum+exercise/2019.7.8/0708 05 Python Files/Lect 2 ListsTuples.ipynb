{
 "cells": [
  {
   "cell_type": "markdown",
   "metadata": {},
   "source": [
    "## 1.0  Lists"
   ]
  },
  {
   "cell_type": "markdown",
   "metadata": {},
   "source": [
    "A list is a collection of zero or more data objects. Each list can have different datatypes.  A list is enclosed within square brackets [].\n",
    "An example of a list is given below."
   ]
  },
  {
   "cell_type": "code",
   "execution_count": 18,
   "metadata": {
    "collapsed": true
   },
   "outputs": [],
   "source": [
    "thingsInPocket = ['phone', 'keys', 'wallets','id','pen', 5]"
   ]
  },
  {
   "cell_type": "markdown",
   "metadata": {},
   "source": [
    "You see that a list can contain:\n",
    "\n",
    "\t\ti.\tA collection of different data types\n",
    "\t\tii.\tEach object in the list is separated by a comma\n",
    "\t\tiii.The list is sequentially ordered - that is the first item is 'phone', the fourth item is \"id\".  This feature allows specific items to be extracted from the list"
   ]
  },
  {
   "cell_type": "markdown",
   "metadata": {},
   "source": [
    "The length of the list is the number of separate items in the list.  There are six items in thingsInPocket."
   ]
  },
  {
   "cell_type": "code",
   "execution_count": 2,
   "metadata": {},
   "outputs": [
    {
     "data": {
      "text/plain": [
       "6"
      ]
     },
     "execution_count": 2,
     "metadata": {},
     "output_type": "execute_result"
    }
   ],
   "source": [
    "len(thingsInPocket)"
   ]
  },
  {
   "cell_type": "markdown",
   "metadata": {},
   "source": [
    "You extract objects from a list by indexing. The first item on the list starts from position \"0\".\n",
    "Below, we give an illustration of extracting the first item from the list (index=0) and finding its datatype.\n",
    "We see that we have extracted phone and its type is string."
   ]
  },
  {
   "cell_type": "code",
   "execution_count": 4,
   "metadata": {},
   "outputs": [
    {
     "name": "stdout",
     "output_type": "stream",
     "text": [
      "phone <class 'str'>\n"
     ]
    }
   ],
   "source": [
    "print(thingsInPocket[0],type(thingsInPocket[0]))"
   ]
  },
  {
   "cell_type": "markdown",
   "metadata": {},
   "source": [
    "If you state a position outside, the length of the list, an error occurs.  In the example below, the index value of '6' looks for the 7th item on the list (remember the first item starts at position '0').  Since there are only 6 items, an error occurs with the command."
   ]
  },
  {
   "cell_type": "code",
   "execution_count": 5,
   "metadata": {},
   "outputs": [
    {
     "ename": "IndexError",
     "evalue": "list index out of range",
     "output_type": "error",
     "traceback": [
      "\u001b[0;31m---------------------------------------------------------------------------\u001b[0m",
      "\u001b[0;31mIndexError\u001b[0m                                Traceback (most recent call last)",
      "\u001b[0;32m<ipython-input-5-884d98e28cd9>\u001b[0m in \u001b[0;36m<module>\u001b[0;34m()\u001b[0m\n\u001b[0;32m----> 1\u001b[0;31m \u001b[0mthingsInPocket\u001b[0m\u001b[1;33m[\u001b[0m\u001b[1;36m6\u001b[0m\u001b[1;33m]\u001b[0m\u001b[1;33m\u001b[0m\u001b[0m\n\u001b[0m",
      "\u001b[0;31mIndexError\u001b[0m: list index out of range"
     ]
    }
   ],
   "source": [
    "thingsInPocket[6]"
   ]
  },
  {
   "cell_type": "markdown",
   "metadata": {},
   "source": [
    "The table shows common methods that can be applied to lists\n",
    "        \n",
    "        \n",
    "        Method Name    Use\t\t\t                Explanation\n",
    "\t\tappend\t\t   alist.append(item)\t        Adds a new item to the end of a list\n",
    "\t\tinsert\t\t   alist.insert(i,item)\t        Inserts an item at the ith position in a list\n",
    "\t\tpop\t\t       alist.pop()\t\t            Removes and returns the last item in a list\n",
    "\t\tpop\t\t       alist.pop(i)\t\t            Removes and returns the ith item in a list\n",
    "\t\tsort\t\t   alist.sort()\t\t            Modifies a list to be sorted\n",
    "\t\treverse\t\t   alist.reverse()\t\t        Modifies a list to be in reverse order\n",
    "\t\tdel\t\t       del alist[i]\t\t            Deletes the item in the ith position\n",
    "\t\tindex\t\t   alist.index(item)\t        Returns the index of the first occurrence of item\n",
    "\t\tcount\t\t   alist.count(item)\t        Returns the number of occurrences of item\n",
    "\t\tremove\t\t   alist.remove(item)\t        Removes the first occurrence of item"
   ]
  },
  {
   "cell_type": "markdown",
   "metadata": {},
   "source": [
    "Append allows you to add ONE and only ONE item at the end of the list (takes a singleton as an argument)\n",
    "Here, a string 'phone' is appended successfully"
   ]
  },
  {
   "cell_type": "code",
   "execution_count": 11,
   "metadata": {},
   "outputs": [
    {
     "data": {
      "text/plain": [
       "['phone', 'keys', 'wallets', 'id', 'pen', 5, 'phone']"
      ]
     },
     "execution_count": 11,
     "metadata": {},
     "output_type": "execute_result"
    }
   ],
   "source": [
    "thingsInPocket.append('phone')\n",
    "thingsInPocket"
   ]
  },
  {
   "cell_type": "markdown",
   "metadata": {},
   "source": [
    "Below, we try to append two items ('coins' and 'chopsticks').  The result is an error because there is more than one item sent to the append method."
   ]
  },
  {
   "cell_type": "code",
   "execution_count": 12,
   "metadata": {},
   "outputs": [
    {
     "ename": "TypeError",
     "evalue": "append() takes exactly one argument (2 given)",
     "output_type": "error",
     "traceback": [
      "\u001b[0;31m---------------------------------------------------------------------------\u001b[0m",
      "\u001b[0;31mTypeError\u001b[0m                                 Traceback (most recent call last)",
      "\u001b[0;32m<ipython-input-12-6c38cedaf1dd>\u001b[0m in \u001b[0;36m<module>\u001b[0;34m()\u001b[0m\n\u001b[0;32m----> 1\u001b[0;31m \u001b[0mthingsInPocket\u001b[0m\u001b[1;33m.\u001b[0m\u001b[0mappend\u001b[0m\u001b[1;33m(\u001b[0m\u001b[1;34m'coins'\u001b[0m\u001b[1;33m,\u001b[0m\u001b[1;34m'chopsticks'\u001b[0m\u001b[1;33m)\u001b[0m\u001b[1;33m\u001b[0m\u001b[0m\n\u001b[0m",
      "\u001b[0;31mTypeError\u001b[0m: append() takes exactly one argument (2 given)"
     ]
    }
   ],
   "source": [
    "thingsInPocket.append('coins','chopsticks')"
   ]
  },
  {
   "cell_type": "markdown",
   "metadata": {},
   "source": [
    "This problem can be solved by appending the two items ('coins' and 'chopsticks') as one single list.  The output may not be what we want though.\n",
    "The example below illustrates this."
   ]
  },
  {
   "cell_type": "code",
   "execution_count": 13,
   "metadata": {},
   "outputs": [
    {
     "data": {
      "text/plain": [
       "['phone', 'keys', 'wallets', 'id', 'pen', 5, 'phone', ['coins', 'chopsticks']]"
      ]
     },
     "execution_count": 13,
     "metadata": {},
     "output_type": "execute_result"
    }
   ],
   "source": [
    "thingsInPocket.append(['coins','chopsticks'])\n",
    "thingsInPocket"
   ]
  },
  {
   "cell_type": "markdown",
   "metadata": {},
   "source": [
    "Let us remove the item ['coins', 'chopsticks'], the last item in the list by using the pop command"
   ]
  },
  {
   "cell_type": "code",
   "execution_count": 14,
   "metadata": {},
   "outputs": [
    {
     "data": {
      "text/plain": [
       "['coins', 'chopsticks']"
      ]
     },
     "execution_count": 14,
     "metadata": {},
     "output_type": "execute_result"
    }
   ],
   "source": [
    "thingsInPocket.pop()"
   ]
  },
  {
   "cell_type": "markdown",
   "metadata": {},
   "source": [
    "Note that ['coins','chopticks'] are no longer in the list, thingsInPocket"
   ]
  },
  {
   "cell_type": "code",
   "execution_count": 15,
   "metadata": {},
   "outputs": [
    {
     "data": {
      "text/plain": [
       "['phone', 'keys', 'wallets', 'id', 'pen', 5, 'phone']"
      ]
     },
     "execution_count": 15,
     "metadata": {},
     "output_type": "execute_result"
    }
   ],
   "source": [
    "thingsInPocket"
   ]
  },
  {
   "cell_type": "markdown",
   "metadata": {},
   "source": [
    "We can use extend instead of append to get what we want.  \n",
    "The example below shows what happens when we use extend with ['coins','chopticks']."
   ]
  },
  {
   "cell_type": "code",
   "execution_count": 16,
   "metadata": {},
   "outputs": [
    {
     "data": {
      "text/plain": [
       "['phone', 'keys', 'wallets', 'id', 'pen', 5, 'phone', 'coins', 'chopsticks']"
      ]
     },
     "execution_count": 16,
     "metadata": {},
     "output_type": "execute_result"
    }
   ],
   "source": [
    "thingsInPocket.extend(['coins','chopsticks'])\n",
    "thingsInPocket"
   ]
  },
  {
   "cell_type": "markdown",
   "metadata": {},
   "source": [
    "## 2.0  Methods that Return Value and Those That Do Not  "
   ]
  },
  {
   "cell_type": "markdown",
   "metadata": {},
   "source": [
    "Some methods (not only with lists) return values that can be stored in another variable while others do not.\n",
    "Let us illustrate this concept with two methods that are used with list:  sorted() and .sort() methods\n",
    "We create a list of prime numbers and apply both methods to see what happens.\n",
    "\n",
    "We use the sorted() method first.  You will see that the original list primeNumbers remain unsorted."
   ]
  },
  {
   "cell_type": "code",
   "execution_count": 17,
   "metadata": {},
   "outputs": [
    {
     "data": {
      "text/plain": [
       "[1, 2, 3, 5, 7, 11, 13, 17, 19]"
      ]
     },
     "execution_count": 17,
     "metadata": {},
     "output_type": "execute_result"
    }
   ],
   "source": [
    "primeNumbers = [11,1,19,2,5,7,13,3,17]\n",
    "sorted(primeNumbers)"
   ]
  },
  {
   "cell_type": "code",
   "execution_count": 18,
   "metadata": {},
   "outputs": [
    {
     "data": {
      "text/plain": [
       "[11, 1, 19, 2, 5, 7, 13, 3, 17]"
      ]
     },
     "execution_count": 18,
     "metadata": {},
     "output_type": "execute_result"
    }
   ],
   "source": [
    "primeNumbers"
   ]
  },
  {
   "cell_type": "markdown",
   "metadata": {},
   "source": [
    "However, if you use the .sort() method, the order of the number in the original list primeNumbers are sorted. "
   ]
  },
  {
   "cell_type": "code",
   "execution_count": 19,
   "metadata": {},
   "outputs": [
    {
     "data": {
      "text/plain": [
       "[1, 2, 3, 5, 7, 11, 13, 17, 19]"
      ]
     },
     "execution_count": 19,
     "metadata": {},
     "output_type": "execute_result"
    }
   ],
   "source": [
    "primeNumbers = [11,1,19,2,5,7,13,3,17]\n",
    "primeNumbers.sort()\n",
    "primeNumbers"
   ]
  },
  {
   "cell_type": "raw",
   "metadata": {},
   "source": [
    "Note that I wrote the code differently to get the output of the sorted() and .sort()\n",
    "In sorted(), all I had to do was to apply the sorted() method and the output is produced.  Thus, we say that the sorted() method returns a value.  This value can be stored in another variable as illustrated below.\n",
    "\n",
    "In .sort() method, I had to write primeNumbers in the code after applying the .sort() method before the output is given.  .sorted() method does not return a value.  What it does is to sort the prime numbers and put the sorted list in the original list.  Hence, the original list is modified. This is called in place.  Since .sort() does not return a value, trying to assign the output to another variable is not possible.  This is illustrated below."
   ]
  },
  {
   "cell_type": "code",
   "execution_count": 20,
   "metadata": {},
   "outputs": [
    {
     "name": "stdout",
     "output_type": "stream",
     "text": [
      "primeNumberbySorted:  [1, 2, 3, 5, 7, 11, 13, 17, 19] \n",
      " primeNumberbySort:  None\n"
     ]
    }
   ],
   "source": [
    "primeNumbers = [11,1,19,2,5,7,13,3,17]\n",
    "primeNumberbySorted =sorted(primeNumbers)\n",
    "primeNumberbySort =primeNumbers.sort()\n",
    "print('primeNumberbySorted: ', primeNumberbySorted , '\\n', 'primeNumberbySort: ',primeNumberbySort)"
   ]
  },
  {
   "cell_type": "markdown",
   "metadata": {},
   "source": [
    "## 3.0 Methods to Construct lists"
   ]
  },
  {
   "cell_type": "markdown",
   "metadata": {},
   "source": [
    "### 3.1 Range Construction"
   ]
  },
  {
   "cell_type": "markdown",
   "metadata": {},
   "source": [
    "range(n) generates integers from 0,1,2 . . . , n-1.\n",
    "\n",
    "range(start,stop,step) generates a sequence of integers. The sequence is\n",
    "\n",
    "   start, start+step, start+2*step and so on, up to but not including stop.\n",
    "\n",
    "  If step is omitted, the default is 1."
   ]
  },
  {
   "cell_type": "markdown",
   "metadata": {},
   "source": [
    "Suppose you wish to construct the list below containing temperatures in Celcius\n",
    "\n",
    "[-5, 0 , 5, 10, 15, 20, 25, 30, 35, 40]\n",
    "\n",
    "You could type in the numbers yourself, but it would be too tedious if there are a lot of numbers.\n",
    "\n",
    "We can use the range function together with the for loop (we will discuss the loops in a later lecture) to create the list"
   ]
  },
  {
   "cell_type": "code",
   "execution_count": 7,
   "metadata": {},
   "outputs": [
    {
     "data": {
      "text/plain": [
       "[-5, 0, 5, 10, 15, 20, 25, 30, 35, 40]"
      ]
     },
     "execution_count": 7,
     "metadata": {},
     "output_type": "execute_result"
    }
   ],
   "source": [
    "Cdegrees=[ ]\t#define an empty list you going to fill later​\n",
    "\n",
    "for i in range(-5,41,5):\t#carry out operations in the loop starting with i=5, #increase by 5 for each loop, and stop at the largest #number before 41​\n",
    "\n",
    "    Cdegrees.append(i)\t#append each i to the list called Cdegrees, with each loop\n",
    "\n",
    "Cdegrees\t#check what is in the list​"
   ]
  },
  {
   "cell_type": "markdown",
   "metadata": {},
   "source": [
    "### 3.2 List Comprehension"
   ]
  },
  {
   "cell_type": "markdown",
   "metadata": {},
   "source": [
    "List comprehension is a very efficient method to construct list.  It makes use of existing list and applies the an expression to form a new list.\n",
    "\n",
    "The syntax for list comprehension is shown below.\n",
    "\n",
    "newlist = [E(e) for e in oldlist].\n",
    "\n",
    "E(e) represents an expression involving element e in the old list.\n",
    "\n",
    "\n",
    "We have created a list containing a range of temperatures in Celcius above.  We can use list comprehension to convert create a list of temperature in Farenheit from the list of temperature in Celcius that we created.\n",
    "\n",
    "The formula is Farenheit = (9/5)*Celcius + 32\n",
    "\n",
    "We do the conversion and store the result in a list called Fdegrees.\n",
    "\n",
    "The list expression is:\n",
    "\n",
    "Fdegrees = [(9/5)*c + 32 for c in Cdegrees]\n",
    "\n",
    "In this case, the code takes each item in the list Cdegrees and applies the expression, (9/5)*c + 32, to the item.  Since there are 10 items in Cdegrees, there will be 10 items in Fdegrees.\n",
    "\n",
    "You will note that this is similar to a loop except that the list expression negates the use of the loop.  It is much neater. "
   ]
  },
  {
   "cell_type": "code",
   "execution_count": 8,
   "metadata": {},
   "outputs": [
    {
     "data": {
      "text/plain": [
       "[23.0, 32.0, 41.0, 50.0, 59.0, 68.0, 77.0, 86.0, 95.0, 104.0]"
      ]
     },
     "execution_count": 8,
     "metadata": {},
     "output_type": "execute_result"
    }
   ],
   "source": [
    "Fdegrees = [(9/5)*c + 32 for c in Cdegrees]\n",
    "Fdegrees"
   ]
  },
  {
   "cell_type": "markdown",
   "metadata": {},
   "source": [
    "ZIP function can be used to combine two or more lists"
   ]
  },
  {
   "cell_type": "code",
   "execution_count": 11,
   "metadata": {},
   "outputs": [
    {
     "data": {
      "text/plain": [
       "<zip at 0x1f85e8aec88>"
      ]
     },
     "execution_count": 11,
     "metadata": {},
     "output_type": "execute_result"
    }
   ],
   "source": [
    "result = zip (Cdegrees,Fdegrees)\n",
    "result\n"
   ]
  },
  {
   "cell_type": "code",
   "execution_count": 12,
   "metadata": {},
   "outputs": [
    {
     "name": "stdout",
     "output_type": "stream",
     "text": [
      "[(-5, 23.0), (0, 32.0), (5, 41.0), (10, 50.0), (15, 59.0), (20, 68.0), (25, 77.0), (30, 86.0), (35, 95.0), (40, 104.0)]\n"
     ]
    }
   ],
   "source": [
    "print(list(result))"
   ]
  },
  {
   "cell_type": "code",
   "execution_count": 13,
   "metadata": {},
   "outputs": [
    {
     "name": "stdout",
     "output_type": "stream",
     "text": [
      "[]\n"
     ]
    }
   ],
   "source": [
    "print(list(result))"
   ]
  },
  {
   "cell_type": "code",
   "execution_count": 14,
   "metadata": {},
   "outputs": [
    {
     "name": "stdout",
     "output_type": "stream",
     "text": [
      "-5 23.0\n",
      "0 32.0\n",
      "5 41.0\n",
      "10 50.0\n",
      "15 59.0\n",
      "20 68.0\n",
      "25 77.0\n",
      "30 86.0\n",
      "35 95.0\n",
      "40 104.0\n"
     ]
    }
   ],
   "source": [
    "for c, f in zip (Cdegrees,Fdegrees):\n",
    "    print (c,f)"
   ]
  },
  {
   "cell_type": "code",
   "execution_count": 15,
   "metadata": {},
   "outputs": [
    {
     "name": "stdout",
     "output_type": "stream",
     "text": [
      "[(-5, -5, 23.0), (0, 0, 32.0), (5, 5, 41.0), (10, 10, 50.0), (15, 15, 59.0), (20, 20, 68.0), (25, 25, 77.0), (30, 30, 86.0), (35, 35, 95.0), (40, 40, 104.0)]\n"
     ]
    }
   ],
   "source": [
    "result = zip (Cdegrees,Cdegrees,Fdegrees)\n",
    "print(list(result))"
   ]
  },
  {
   "cell_type": "code",
   "execution_count": 17,
   "metadata": {},
   "outputs": [
    {
     "data": {
      "text/plain": [
       "[13, 26, 39, 52, 65, 78, 91, 104, 117, 130, 143, 156]"
      ]
     },
     "execution_count": 17,
     "metadata": {},
     "output_type": "execute_result"
    }
   ],
   "source": [
    "num = range(1,13)\n",
    "mul_num = [13*n for n in num]\n",
    "mul_num"
   ]
  },
  {
   "cell_type": "code",
   "execution_count": 3,
   "metadata": {},
   "outputs": [
    {
     "data": {
      "text/plain": [
       "[1.34,\n",
       " 2.68,\n",
       " 4.0200000000000005,\n",
       " 5.36,\n",
       " 6.7,\n",
       " 8.040000000000001,\n",
       " 9.38,\n",
       " 10.72,\n",
       " 12.06,\n",
       " 13.4,\n",
       " 14.74,\n",
       " 16.080000000000002,\n",
       " 17.42,\n",
       " 18.76,\n",
       " 20.1,\n",
       " 21.44,\n",
       " 22.78,\n",
       " 24.12,\n",
       " 25.46,\n",
       " 26.8,\n",
       " 28.14,\n",
       " 29.48,\n",
       " 30.82,\n",
       " 32.160000000000004,\n",
       " 33.5,\n",
       " 34.84,\n",
       " 36.18,\n",
       " 37.52,\n",
       " 38.86,\n",
       " 40.2,\n",
       " 41.54,\n",
       " 42.88,\n",
       " 44.220000000000006,\n",
       " 45.56,\n",
       " 46.900000000000006,\n",
       " 48.24,\n",
       " 49.580000000000005,\n",
       " 50.92,\n",
       " 52.260000000000005,\n",
       " 53.6,\n",
       " 54.940000000000005,\n",
       " 56.28,\n",
       " 57.620000000000005,\n",
       " 58.96,\n",
       " 60.300000000000004,\n",
       " 61.64,\n",
       " 62.980000000000004,\n",
       " 64.32000000000001,\n",
       " 65.66000000000001,\n",
       " 67.0,\n",
       " 68.34,\n",
       " 69.68,\n",
       " 71.02000000000001,\n",
       " 72.36,\n",
       " 73.7,\n",
       " 75.04,\n",
       " 76.38000000000001,\n",
       " 77.72,\n",
       " 79.06,\n",
       " 80.4,\n",
       " 81.74000000000001,\n",
       " 83.08,\n",
       " 84.42,\n",
       " 85.76,\n",
       " 87.10000000000001,\n",
       " 88.44000000000001,\n",
       " 89.78,\n",
       " 91.12,\n",
       " 92.46000000000001,\n",
       " 93.80000000000001,\n",
       " 95.14,\n",
       " 96.48,\n",
       " 97.82000000000001,\n",
       " 99.16000000000001,\n",
       " 100.5,\n",
       " 101.84,\n",
       " 103.18,\n",
       " 104.52000000000001,\n",
       " 105.86,\n",
       " 107.2,\n",
       " 108.54,\n",
       " 109.88000000000001,\n",
       " 111.22000000000001,\n",
       " 112.56,\n",
       " 113.9,\n",
       " 115.24000000000001,\n",
       " 116.58000000000001,\n",
       " 117.92,\n",
       " 119.26,\n",
       " 120.60000000000001,\n",
       " 121.94000000000001,\n",
       " 123.28,\n",
       " 124.62,\n",
       " 125.96000000000001,\n",
       " 127.30000000000001,\n",
       " 128.64000000000001,\n",
       " 129.98000000000002,\n",
       " 131.32000000000002,\n",
       " 132.66,\n",
       " 134.0]"
      ]
     },
     "execution_count": 3,
     "metadata": {},
     "output_type": "execute_result"
    }
   ],
   "source": [
    "sgd = range(1,101)\n",
    "usd = [1.34*s for s in sgd]\n",
    "usd"
   ]
  },
  {
   "cell_type": "code",
   "execution_count": 6,
   "metadata": {},
   "outputs": [
    {
     "data": {
      "text/plain": [
       "[12, 24, 36, 48, 60, 72, 84, 96]"
      ]
     },
     "execution_count": 6,
     "metadata": {},
     "output_type": "execute_result"
    }
   ],
   "source": [
    "numberlist = range(1,101)\n",
    "newlist = [i for i in numberlist if i%12==0 ]\n",
    "newlist"
   ]
  },
  {
   "cell_type": "markdown",
   "metadata": {},
   "source": [
    "## 4.0  Tuples"
   ]
  },
  {
   "cell_type": "markdown",
   "metadata": {},
   "source": [
    "Tuples are similar to lists.\n",
    "\n",
    "The main difference is that tuples are immutable, that is, they cannot be changed.\n",
    "\n",
    "The main reason for using tuples instead of lists are:\n",
    "(i)  to protect against accidental change in content; and\n",
    "(ii) to have a faster running code (tuples are faster than lists)\n",
    "\n",
    "Tuples are defined by two methods;\n",
    "(i)  enclosing the times in round brackets ( ); or\n",
    "(ii)  just defining the items without any brackets.\n",
    "\n",
    "Each tuple can contain data of different types as illustrated below."
   ]
  },
  {
   "cell_type": "code",
   "execution_count": 23,
   "metadata": {
    "collapsed": true
   },
   "outputs": [],
   "source": [
    "tuple1 = (1,2,3,4,5,'numbers')\n",
    "\n",
    "tuple2 = 10,'cool', True"
   ]
  },
  {
   "cell_type": "markdown",
   "metadata": {},
   "source": [
    "Items within a tuple can be accessed through indexing, similar to a list.\n",
    "\n",
    "The example below illustrates accessing all the items from tuple2 and determining their datatype."
   ]
  },
  {
   "cell_type": "code",
   "execution_count": 24,
   "metadata": {},
   "outputs": [
    {
     "name": "stdout",
     "output_type": "stream",
     "text": [
      "<class 'int'> <class 'str'> <class 'bool'>\n"
     ]
    }
   ],
   "source": [
    "print(type(tuple2[0]),type(tuple2[1]),type(tuple2[2]))"
   ]
  },
  {
   "cell_type": "markdown",
   "metadata": {},
   "source": [
    "The example below shows that the value of elements in a tuple cannot be changed.  This is a useful feature in long programs where you may lose track of changes you make to your data and unwitting change data that should not be changed."
   ]
  },
  {
   "cell_type": "code",
   "execution_count": 25,
   "metadata": {},
   "outputs": [
    {
     "ename": "TypeError",
     "evalue": "'tuple' object does not support item assignment",
     "output_type": "error",
     "traceback": [
      "\u001b[0;31m---------------------------------------------------------------------------\u001b[0m",
      "\u001b[0;31mTypeError\u001b[0m                                 Traceback (most recent call last)",
      "\u001b[0;32m<ipython-input-25-3d5ca4a729d3>\u001b[0m in \u001b[0;36m<module>\u001b[0;34m()\u001b[0m\n\u001b[0;32m----> 1\u001b[0;31m \u001b[0mtuple2\u001b[0m\u001b[1;33m[\u001b[0m\u001b[1;36m0\u001b[0m\u001b[1;33m]\u001b[0m \u001b[1;33m=\u001b[0m \u001b[1;36m20\u001b[0m\u001b[1;33m\u001b[0m\u001b[0m\n\u001b[0m",
      "\u001b[0;31mTypeError\u001b[0m: 'tuple' object does not support item assignment"
     ]
    }
   ],
   "source": [
    "tuple2[0] = 20"
   ]
  },
  {
   "cell_type": "code",
   "execution_count": 20,
   "metadata": {},
   "outputs": [
    {
     "name": "stdout",
     "output_type": "stream",
     "text": [
      "<class 'int'>\n"
     ]
    },
    {
     "ename": "TypeError",
     "evalue": "type() takes 1 or 3 arguments",
     "output_type": "error",
     "traceback": [
      "\u001b[1;31m---------------------------------------------------------------------------\u001b[0m",
      "\u001b[1;31mTypeError\u001b[0m                                 Traceback (most recent call last)",
      "\u001b[1;32m<ipython-input-20-d50a0adbb292>\u001b[0m in \u001b[0;36m<module>\u001b[1;34m()\u001b[0m\n\u001b[0;32m      1\u001b[0m \u001b[0mprint\u001b[0m\u001b[1;33m(\u001b[0m\u001b[0mtype\u001b[0m\u001b[1;33m(\u001b[0m\u001b[1;36m20\u001b[0m\u001b[1;33m)\u001b[0m\u001b[1;33m)\u001b[0m\u001b[1;33m\u001b[0m\u001b[0m\n\u001b[1;32m----> 2\u001b[1;33m \u001b[0mprint\u001b[0m\u001b[1;33m(\u001b[0m\u001b[0mtype\u001b[0m\u001b[1;33m(\u001b[0m\u001b[1;36m20\u001b[0m\u001b[1;33m,\u001b[0m\u001b[1;36m40\u001b[0m\u001b[1;33m)\u001b[0m\u001b[1;33m)\u001b[0m\u001b[1;33m\u001b[0m\u001b[0m\n\u001b[0m",
      "\u001b[1;31mTypeError\u001b[0m: type() takes 1 or 3 arguments"
     ]
    }
   ],
   "source": [
    "print(type(20))\n",
    "print(type(20,40))"
   ]
  },
  {
   "cell_type": "code",
   "execution_count": null,
   "metadata": {
    "collapsed": true
   },
   "outputs": [],
   "source": []
  }
 ],
 "metadata": {
  "anaconda-cloud": {},
  "kernelspec": {
   "display_name": "Python 3",
   "language": "python",
   "name": "python3"
  },
  "language_info": {
   "codemirror_mode": {
    "name": "ipython",
    "version": 3
   },
   "file_extension": ".py",
   "mimetype": "text/x-python",
   "name": "python",
   "nbconvert_exporter": "python",
   "pygments_lexer": "ipython3",
   "version": "3.6.3"
  }
 },
 "nbformat": 4,
 "nbformat_minor": 1
}
