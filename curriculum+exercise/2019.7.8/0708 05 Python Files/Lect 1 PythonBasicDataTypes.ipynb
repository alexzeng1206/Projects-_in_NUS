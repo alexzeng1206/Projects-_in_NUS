{
 "cells": [
  {
   "cell_type": "markdown",
   "metadata": {},
   "source": [
    "# 1.0  Introduction to Variables"
   ]
  },
  {
   "cell_type": "markdown",
   "metadata": {},
   "source": [
    "A script (or program) executes the instructions exactly as given.   It never assumes anything.\n",
    "For example, if you ask to print something, the script does exactly that."
   ]
  },
  {
   "cell_type": "code",
   "execution_count": 4,
   "metadata": {},
   "outputs": [
    {
     "name": "stdout",
     "output_type": "stream",
     "text": [
      "Hello World\n"
     ]
    }
   ],
   "source": [
    "print ('Hello World')"
   ]
  },
  {
   "cell_type": "markdown",
   "metadata": {},
   "source": [
    "Say you wish to print 'Hello John' instead of 'Hello World'.  Or, have the flexibility to say hellow to anyone.\n",
    "\n",
    "But you may not want to type the print statment over and over again each time you want to change the name of person you are saying hello to.\n",
    "\n",
    "What can we do?  We use a variable.\n",
    "\n",
    "A variable is a container holding a value.  It takes whatever value is assigned to it.\n",
    "\n",
    "You write a script that says print ('Hello', name).  The name here is a variable.  Note that name is not enclosed inside the quote (' ' ) mark.  \n",
    "\n",
    "The name variable can be assigned a value (somebody's name) which gets printed out.\n",
    "\n",
    "\n",
    "In the example below, we assign the value, 'John', to the variable name."
   ]
  },
  {
   "cell_type": "code",
   "execution_count": 6,
   "metadata": {
    "scrolled": true
   },
   "outputs": [
    {
     "name": "stdout",
     "output_type": "stream",
     "text": [
      "Hello  Mr Pan Binbin\n"
     ]
    }
   ],
   "source": [
    "name = 'John'\n",
    "print('Hello ', name)"
   ]
  },
  {
   "cell_type": "markdown",
   "metadata": {},
   "source": [
    "Variable names cannot start with digits.  "
   ]
  },
  {
   "cell_type": "code",
   "execution_count": 9,
   "metadata": {
    "scrolled": false
   },
   "outputs": [
    {
     "ename": "SyntaxError",
     "evalue": "invalid token (<ipython-input-9-3e729caa38e4>, line 1)",
     "output_type": "error",
     "traceback": [
      "\u001b[1;36m  File \u001b[1;32m\"<ipython-input-9-3e729caa38e4>\"\u001b[1;36m, line \u001b[1;32m1\u001b[0m\n\u001b[1;33m    2_name = 'Peter'\u001b[0m\n\u001b[1;37m     ^\u001b[0m\n\u001b[1;31mSyntaxError\u001b[0m\u001b[1;31m:\u001b[0m invalid token\n"
     ]
    }
   ],
   "source": [
    "2_name = 'Peter'"
   ]
  },
  {
   "cell_type": "markdown",
   "metadata": {},
   "source": [
    "There are a number of ways to assign a value to a variable.  One way is to do it inside the program as illustrated above.  The other is to read from console as illustrated below.\n",
    "\n",
    "In this method, we are assigning whatever the user types in the console as a value for the variable, name."
   ]
  },
  {
   "cell_type": "code",
   "execution_count": 10,
   "metadata": {},
   "outputs": [
    {
     "name": "stdout",
     "output_type": "stream",
     "text": [
      "What is your name? Superman\n",
      "Hello Superman\n"
     ]
    }
   ],
   "source": [
    "name = input ('What is your name? ')\n",
    "print('Hello', name)"
   ]
  },
  {
   "cell_type": "markdown",
   "metadata": {},
   "source": [
    "However, if you have a number of names to say hello to at the same time, you do not want to enter the names on console one at a time.  \n",
    "\n",
    "What you usually do is to read the names from a file. The illustation below shows how to read data from a file into a variable.\n",
    "\n",
    "You haved to know where your file is located in order to read the data. When I prepared this set of notes, my file was located in the same directory as this program.  \n",
    "\n",
    "The name of the file that I read in was Names.txt\n",
    "\n",
    "\n",
    "Note that we use a loop.  At each iteration, the variable name takes a new value and prints out the new value.\n",
    "\n",
    "We shall talk more about reading from files and looping in later lessons."
   ]
  },
  {
   "cell_type": "code",
   "execution_count": 2,
   "metadata": {},
   "outputs": [
    {
     "name": "stdout",
     "output_type": "stream",
     "text": [
      "Hello  Amy\n",
      "Hello  Beth\n",
      "Hello  Cate\n"
     ]
    }
   ],
   "source": [
    "name =open('Names.txt').read().split(\"\\n\")\n",
    "for i in name:\n",
    "    print('Hello ', i)"
   ]
  },
  {
   "cell_type": "markdown",
   "metadata": {},
   "source": [
    "# 2.0  Basic Types of Data"
   ]
  },
  {
   "cell_type": "markdown",
   "metadata": {},
   "source": [
    "The above illustrates assignment of values (data) to variables.  We now explore the nature of the data (or datatype).\n",
    "\n",
    "\n",
    "Python uses object-oriented programming.\n",
    "\n",
    "The data we assign is the object in python.  The methods we can apply to manipulate the data objects depend on their type.  Data is the focal point of the problem-solving process in Python.\n",
    "\n",
    "The data in python can be classified into atomic data types.\n",
    "\n",
    "Atomic Data Types (or objects)\n",
    "\n",
    "    a.  Numeric\n",
    "\n",
    "        a.1  integer (int)\n",
    "\n",
    "            Normal integer that can represent values (count of items) or categories (e.g., 0 for male, 1 for female)\n",
    "\n",
    "        a.2  float\n",
    "\n",
    "            Continuous decimal numbers that usually represent quantities\n",
    "\n",
    "    b.\tNon-numeric\n",
    "\n",
    "        b.1\tstrings\n",
    "\n",
    "            This non-numeric datatype is the most general type.  It can contain words, numbers, and any other   characters.\n",
    "\t   \n",
    "        b.2\tboolean (boo)\n",
    "\n",
    "            Data that has only two values - True (1) or False (0).  It results from the output of a test done (for example, in a comparison of two numbers, 1 and 2, the test \"1 > 2\" will yield False and \"1< 2\" will yield True)\n",
    "\n",
    "\n"
   ]
  },
  {
   "cell_type": "markdown",
   "metadata": {},
   "source": [
    "A data's datatype determines its behaviour.  We illustrate this statement with the operator \"+\".\n",
    "\n",
    "In normal use, \"+\" is an operator to add two numbers.\n",
    "\n",
    "So we expect 3+4 to yield a value of 7 (+ is an addition operation)\n",
    "\n",
    "However, if 3 and 4 are strings (characters rather than number), then 3 + 4 results in 34 (\"+\" is a concantenation operator).\n",
    "\n",
    "Hence, what \"+\", and a lot of other methods, does depends on the datatype."
   ]
  },
  {
   "cell_type": "code",
   "execution_count": 12,
   "metadata": {},
   "outputs": [
    {
     "name": "stdout",
     "output_type": "stream",
     "text": [
      "Data type stringA:  <class 'str'> \n",
      " Data type numberA:  <class 'int'>\n"
     ]
    }
   ],
   "source": [
    "stringA = '3'\n",
    "stringB = '4'\n",
    "numberA = 3\n",
    "numberB = 4\n",
    "print('Data type stringA: ', type(stringA),'\\n','Data type numberA: ', type(numberA))"
   ]
  },
  {
   "cell_type": "code",
   "execution_count": 6,
   "metadata": {},
   "outputs": [
    {
     "data": {
      "text/plain": [
       "7"
      ]
     },
     "execution_count": 6,
     "metadata": {},
     "output_type": "execute_result"
    }
   ],
   "source": [
    "numberA + numberB"
   ]
  },
  {
   "cell_type": "code",
   "execution_count": 7,
   "metadata": {},
   "outputs": [
    {
     "data": {
      "text/plain": [
       "'34'"
      ]
     },
     "execution_count": 7,
     "metadata": {},
     "output_type": "execute_result"
    }
   ],
   "source": [
    "stringA + stringB"
   ]
  },
  {
   "cell_type": "markdown",
   "metadata": {},
   "source": [
    "Some operators cannot be applied to certain datatypes.  For example, \"/\" (division) cannot be applied to strings"
   ]
  },
  {
   "cell_type": "code",
   "execution_count": 8,
   "metadata": {},
   "outputs": [
    {
     "ename": "TypeError",
     "evalue": "unsupported operand type(s) for /: 'str' and 'str'",
     "output_type": "error",
     "traceback": [
      "\u001b[1;31m---------------------------------------------------------------------------\u001b[0m",
      "\u001b[1;31mTypeError\u001b[0m                                 Traceback (most recent call last)",
      "\u001b[1;32m<ipython-input-8-d270b6e01b10>\u001b[0m in \u001b[0;36m<module>\u001b[1;34m()\u001b[0m\n\u001b[1;32m----> 1\u001b[1;33m \u001b[0mstringA\u001b[0m\u001b[1;33m/\u001b[0m\u001b[0mstringB\u001b[0m\u001b[1;33m\u001b[0m\u001b[0m\n\u001b[0m",
      "\u001b[1;31mTypeError\u001b[0m: unsupported operand type(s) for /: 'str' and 'str'"
     ]
    }
   ],
   "source": [
    "stringA/stringB"
   ]
  },
  {
   "cell_type": "markdown",
   "metadata": {},
   "source": [
    "Some operators cannot be used when the datatypes are mixed.  For example, the \"+\" operator cannot be applied when variable contain string and numeric datatypes."
   ]
  },
  {
   "cell_type": "code",
   "execution_count": 9,
   "metadata": {},
   "outputs": [
    {
     "ename": "TypeError",
     "evalue": "must be str, not int",
     "output_type": "error",
     "traceback": [
      "\u001b[1;31m---------------------------------------------------------------------------\u001b[0m",
      "\u001b[1;31mTypeError\u001b[0m                                 Traceback (most recent call last)",
      "\u001b[1;32m<ipython-input-9-d226f0bbf8c8>\u001b[0m in \u001b[0;36m<module>\u001b[1;34m()\u001b[0m\n\u001b[1;32m----> 1\u001b[1;33m \u001b[0mstringA\u001b[0m \u001b[1;33m+\u001b[0m \u001b[0mnumberA\u001b[0m\u001b[1;33m\u001b[0m\u001b[0m\n\u001b[0m",
      "\u001b[1;31mTypeError\u001b[0m: must be str, not int"
     ]
    }
   ],
   "source": [
    "stringA + numberA"
   ]
  },
  {
   "cell_type": "markdown",
   "metadata": {},
   "source": [
    "How do you resolve the problem of adding stringA and numberA together???\n",
    "\n",
    "The answer is casting, which can cast the type of an object to another type. \n",
    "\n",
    "For example, int(stringA) will give you a integer value of 3, which can be used to add to numberA. \n"
   ]
  },
  {
   "cell_type": "code",
   "execution_count": 13,
   "metadata": {},
   "outputs": [
    {
     "data": {
      "text/plain": [
       "6"
      ]
     },
     "execution_count": 13,
     "metadata": {},
     "output_type": "execute_result"
    }
   ],
   "source": [
    "int(stringA) + numberA"
   ]
  },
  {
   "cell_type": "markdown",
   "metadata": {},
   "source": [
    "Other types of "
   ]
  },
  {
   "cell_type": "markdown",
   "metadata": {},
   "source": [
    "#  3.0  Strings"
   ]
  },
  {
   "cell_type": "markdown",
   "metadata": {},
   "source": [
    "A string is a sequence of characters. It includes everything - numbers, alphabets, spaces, special characters among others.\n",
    "\n",
    "Define a data as a string by enclosing it with single quotes (' ' ) or double quotes (\" \").\n",
    "\n",
    "For example, the string below has length of 11 even though you see only nine numbers from 1 to 9.  That is because the blank spaces in front (called leading whitespace) and at the back (trailing whitespace) of the numbers are counted as part of the string."
   ]
  },
  {
   "cell_type": "code",
   "execution_count": 10,
   "metadata": {},
   "outputs": [
    {
     "data": {
      "text/plain": [
       "11"
      ]
     },
     "execution_count": 10,
     "metadata": {},
     "output_type": "execute_result"
    }
   ],
   "source": [
    "string = ' 123456789 '\n",
    "len(string)"
   ]
  },
  {
   "cell_type": "markdown",
   "metadata": {},
   "source": [
    "Each item in the sequence can be accessed separately.  For example, the last blank in the above string variable can be accessed by its index (we talk more of index later).  This last blank is in the 11th position of the variable named string.  "
   ]
  },
  {
   "cell_type": "code",
   "execution_count": 11,
   "metadata": {},
   "outputs": [
    {
     "data": {
      "text/plain": [
       "' '"
      ]
     },
     "execution_count": 11,
     "metadata": {},
     "output_type": "execute_result"
    }
   ],
   "source": [
    "string[10]"
   ]
  },
  {
   "cell_type": "markdown",
   "metadata": {},
   "source": [
    "The use of slash \\ negates the effect of some standalone special characters.  Single quotation marks (' ' ) are called special characters.  They are used to define a string.  Anything enclosed by ' ' is a string and if you print the string, the special characters ' ' are not printed.\n",
    "\n",
    "However, if you put \\ in front of ' ( as \\'), the ' will no longer function as a special character but appear as part of the string when printed.\n",
    "\n",
    "Let's see how this works if you want to print the statement (with the quotation marks)\n",
    "\n",
    "'I love apple'\n",
    "\n",
    "You can try this ''I love apple'' and hope that the inner quotation marks (' ' ) will show up when you print.  However, since quotation marks are special characters, it will not work.  The above code uses two special characters in a row. This violates the syntax.\n",
    "\n",
    "Instead use this:\n",
    "\n",
    "'\\'I love apple\\'' \n",
    "\n",
    "What happens is this.  The outer quotation marks at the beginning and end denotes that the data in between is a string.\n",
    "The quotation marks that are preceded immediately by the slash (\\) are no longer special characters but treated as quotation marks (')."
   ]
  },
  {
   "cell_type": "code",
   "execution_count": 12,
   "metadata": {},
   "outputs": [
    {
     "ename": "SyntaxError",
     "evalue": "invalid syntax (<ipython-input-12-43916704d95f>, line 1)",
     "output_type": "error",
     "traceback": [
      "\u001b[1;36m  File \u001b[1;32m\"<ipython-input-12-43916704d95f>\"\u001b[1;36m, line \u001b[1;32m1\u001b[0m\n\u001b[1;33m    stringApp = ''I love apple''\u001b[0m\n\u001b[1;37m                  ^\u001b[0m\n\u001b[1;31mSyntaxError\u001b[0m\u001b[1;31m:\u001b[0m invalid syntax\n"
     ]
    }
   ],
   "source": [
    "stringApp = ''I love apple''\n",
    "print(stringApp)"
   ]
  },
  {
   "cell_type": "code",
   "execution_count": 13,
   "metadata": {},
   "outputs": [
    {
     "name": "stdout",
     "output_type": "stream",
     "text": [
      "'I love apple'\n"
     ]
    }
   ],
   "source": [
    "stringApp = '\\'I love apple\\''\n",
    "print(stringApp)"
   ]
  },
  {
   "cell_type": "code",
   "execution_count": 12,
   "metadata": {},
   "outputs": [
    {
     "name": "stdout",
     "output_type": "stream",
     "text": [
      "'I love apple'\n"
     ]
    }
   ],
   "source": [
    "stringApp = \"'I love apple'\"\n",
    "print(stringApp)"
   ]
  },
  {
   "cell_type": "markdown",
   "metadata": {},
   "source": [
    "On the other hand, the use of \\ before a normal character can confer some special function to the normal character.\n",
    "\n",
    "The letter \"n\" is just an alphabet.  However, when it is preceded by a slash as, in \"\\n\", it has a special function.   \n",
    "\n",
    "\"\\n\" means to print on a new line.\n",
    "\n",
    "The following illustration is self-explanatory.\n",
    "\n",
    "Note that the length of the variable stringAppNewLine is 14.  This is because the special character \\n (to start a new line) is counted as one character."
   ]
  },
  {
   "cell_type": "code",
   "execution_count": 14,
   "metadata": {},
   "outputs": [
    {
     "data": {
      "text/plain": [
       "14"
      ]
     },
     "execution_count": 14,
     "metadata": {},
     "output_type": "execute_result"
    }
   ],
   "source": [
    "stringAppNewLine = 'I \\nlove \\napple'\n",
    "len(stringAppNewLine)"
   ]
  },
  {
   "cell_type": "code",
   "execution_count": 36,
   "metadata": {},
   "outputs": [
    {
     "name": "stdout",
     "output_type": "stream",
     "text": [
      "I \n",
      "love \n",
      "apple\n"
     ]
    }
   ],
   "source": [
    "print(stringAppNewLine)"
   ]
  },
  {
   "cell_type": "markdown",
   "metadata": {},
   "source": [
    "## 3.1  Manipulating Strings"
   ]
  },
  {
   "cell_type": "markdown",
   "metadata": {},
   "source": [
    "The basic manipluation of all strings consists of accessing specific items within the string.\n",
    "\n",
    "This requires a basic understanding of how the items in the strings are indexed.  \n",
    "\n",
    "Python uses the zero indexing system - the first position in the string has an index of 0, the second an index of 1 and so on.\n",
    "\n",
    "Let's say you have a variable named string.  To get the first item, just write string[0]- that is, the name of the string followed by square brackets [], with the index inside the square brackets.\n",
    "\n",
    "The example below takes a string, s, containing the statement:\n",
    "\n",
    "'Singapore is a very hot place with temperature going up to 36 degrees Celcius'\n",
    "\n",
    "The outputs from the different indices are given to help you understand how they work.\n",
    "\n",
    "The index [i,j] means to take a slice of the items inside the variable from index i to index (j-1)."
   ]
  },
  {
   "cell_type": "code",
   "execution_count": 16,
   "metadata": {},
   "outputs": [
    {
     "data": {
      "text/plain": [
       "'Singapore'"
      ]
     },
     "execution_count": 16,
     "metadata": {},
     "output_type": "execute_result"
    }
   ],
   "source": [
    "s = 'Singapore is a very hot place with temperature going up to 36 degrees Celcius'\n",
    "s[0:9]   #access the items from position 1 (index 0) to positon 9 (index 8)"
   ]
  },
  {
   "cell_type": "code",
   "execution_count": 17,
   "metadata": {},
   "outputs": [
    {
     "data": {
      "text/plain": [
       "'is a very hot place with temperature going up to 36 degrees Celcius'"
      ]
     },
     "execution_count": 17,
     "metadata": {},
     "output_type": "execute_result"
    }
   ],
   "source": [
    "s[10:]  #access items from position 11 (index 10) to end of string"
   ]
  },
  {
   "cell_type": "code",
   "execution_count": 18,
   "metadata": {},
   "outputs": [
    {
     "data": {
      "text/plain": [
       "' '"
      ]
     },
     "execution_count": 18,
     "metadata": {},
     "output_type": "execute_result"
    }
   ],
   "source": [
    "s[9]  #access item in position 10 (index 9) - this is the blank after the word 'Singapore'"
   ]
  },
  {
   "cell_type": "code",
   "execution_count": 19,
   "metadata": {},
   "outputs": [
    {
     "data": {
      "text/plain": [
       "'Singapore is'"
      ]
     },
     "execution_count": 19,
     "metadata": {},
     "output_type": "execute_result"
    }
   ],
   "source": [
    "s[:12]  # access items from position 1 (index 0) to position 11 (index 10)"
   ]
  },
  {
   "cell_type": "markdown",
   "metadata": {},
   "source": [
    "When the negative index is used, we start counting from the back of the string  "
   ]
  },
  {
   "cell_type": "code",
   "execution_count": 20,
   "metadata": {},
   "outputs": [
    {
     "data": {
      "text/plain": [
       "'s'"
      ]
     },
     "execution_count": 20,
     "metadata": {},
     "output_type": "execute_result"
    }
   ],
   "source": [
    "s[-1]  #access the last item of the string"
   ]
  },
  {
   "cell_type": "code",
   "execution_count": 21,
   "metadata": {},
   "outputs": [
    {
     "data": {
      "text/plain": [
       "'iu'"
      ]
     },
     "execution_count": 21,
     "metadata": {},
     "output_type": "execute_result"
    }
   ],
   "source": [
    "s[-3:-1]   #access items from the third last position to second last position (remember that the last item stops at one position before the last index)"
   ]
  },
  {
   "cell_type": "markdown",
   "metadata": {},
   "source": [
    "You can apply different methods* to the string.  The usual syntax is string.method()\n",
    "\n",
    "This is one illustration of object-oriented programming.  string is the data object (also called variable) we apply some methods to transform it or to obtain the data we want.  \n",
    "\n",
    "The two examples below illustrates the use of two methods - .find() and .replace() \n",
    "\n",
    "We show how the find method and the replace method is used with the string, s.\n",
    "\n",
    ".find() is used to determine the index position for the first character of a string selected.  In this example, the word 'hot' starts at index 20 (position 21)\n",
    "\n",
    "*Note:  the word \"method\" is used interchangeably with the word \"function\""
   ]
  },
  {
   "cell_type": "code",
   "execution_count": 22,
   "metadata": {},
   "outputs": [
    {
     "data": {
      "text/plain": [
       "20"
      ]
     },
     "execution_count": 22,
     "metadata": {},
     "output_type": "execute_result"
    }
   ],
   "source": [
    "s.find('hot')"
   ]
  },
  {
   "cell_type": "code",
   "execution_count": 23,
   "metadata": {},
   "outputs": [
    {
     "data": {
      "text/plain": [
       "'Pulau Ubin is a very hot place with temperature going up to 36 degrees Celcius'"
      ]
     },
     "execution_count": 23,
     "metadata": {},
     "output_type": "execute_result"
    }
   ],
   "source": [
    "s.replace('Singapore','Pulau Ubin')  # Replace the word 'Singapore' with 'Pulau Ubin'"
   ]
  },
  {
   "cell_type": "markdown",
   "metadata": {},
   "source": [
    ".split is one of the most useful method to apply to a string.  It splits a string into individual words.  The output of the .split method is a list - we will talk more about the list later.\n",
    "\n",
    "We must decide how we wish to split the words - in this case, we note that each word is separated by a space, so we use the space as a parameter to split the string as illustrated below.\n",
    "\n",
    "The output of the split is very different from the original object that is split.\n",
    "\n",
    "s, the original string treats each character as a single item.\n",
    "\n",
    "s1, the ouput from applying .split() to s is now a list.  Each word is a single item.\n",
    "\n",
    "This difference is demonstrated by accessing the first item in s and in s1."
   ]
  },
  {
   "cell_type": "code",
   "execution_count": 24,
   "metadata": {},
   "outputs": [
    {
     "data": {
      "text/plain": [
       "['Singapore',\n",
       " 'is',\n",
       " 'a',\n",
       " 'very',\n",
       " 'hot',\n",
       " 'place',\n",
       " 'with',\n",
       " 'temperature',\n",
       " 'going',\n",
       " 'up',\n",
       " 'to',\n",
       " '36',\n",
       " 'degrees',\n",
       " 'Celcius']"
      ]
     },
     "execution_count": 24,
     "metadata": {},
     "output_type": "execute_result"
    }
   ],
   "source": [
    "s1 = s.split()\n",
    "s1"
   ]
  },
  {
   "cell_type": "code",
   "execution_count": 25,
   "metadata": {},
   "outputs": [
    {
     "data": {
      "text/plain": [
       "'S'"
      ]
     },
     "execution_count": 25,
     "metadata": {},
     "output_type": "execute_result"
    }
   ],
   "source": [
    "s[0]"
   ]
  },
  {
   "cell_type": "code",
   "execution_count": 26,
   "metadata": {},
   "outputs": [
    {
     "data": {
      "text/plain": [
       "'Singapore'"
      ]
     },
     "execution_count": 26,
     "metadata": {},
     "output_type": "execute_result"
    }
   ],
   "source": [
    "s1[0]"
   ]
  },
  {
   "cell_type": "markdown",
   "metadata": {},
   "source": [
    "The opposite of .split() is .join()  \n",
    "\n",
    "You can join strings together to form one single string.  The separator that you wish to insert between the strings you join are given in the parameter of the join method.\n",
    "\n",
    "In the illustration, we choose to join the three strings into a single string.  We want the three strings to be separated by a space in a newly joined string.\n",
    "\n",
    "By the way, note that we enclose s11, s12, s13 with [].  This is because the method .join() takes only one argument. If the [] is not used to enclose the three strings, you will get an error as you will be passing three arguments instead of one to the .join() method."
   ]
  },
  {
   "cell_type": "code",
   "execution_count": 27,
   "metadata": {},
   "outputs": [
    {
     "data": {
      "text/plain": [
       "'Singapore is hot'"
      ]
     },
     "execution_count": 27,
     "metadata": {},
     "output_type": "execute_result"
    }
   ],
   "source": [
    "s11='Singapore'; s12 ='is'; s13='hot'  #you can type different commands on the same line by using ; to separate the command\n",
    "\n",
    "sjoin = ' '.join([s11,s12,s13])    #join s11, s12, s13 and separate them by a space\n",
    "\n",
    "sjoin"
   ]
  },
  {
   "cell_type": "markdown",
   "metadata": {},
   "source": [
    "You can use anything as the separator for the strings you join.  For example, let us separate the three strings we join together with the '&' character."
   ]
  },
  {
   "cell_type": "code",
   "execution_count": 28,
   "metadata": {},
   "outputs": [
    {
     "data": {
      "text/plain": [
       "'Singapore&is&hot'"
      ]
     },
     "execution_count": 28,
     "metadata": {},
     "output_type": "execute_result"
    }
   ],
   "source": [
    "sjoin1 = '&'.join([s11,s12,s13])    #join s11, s12, s13 and separate them by &\n",
    "\n",
    "sjoin1"
   ]
  },
  {
   "cell_type": "markdown",
   "metadata": {},
   "source": [
    "# 4.0 Boolean Data"
   ]
  },
  {
   "cell_type": "markdown",
   "metadata": {},
   "source": [
    "The boolean datatype takes only two values - True and False.\n",
    "\n",
    "A boolean datatype is created from the evaluation of some expression.\n",
    "\n",
    "The example below shows one way Boolean datatype is created. \n",
    "\n",
    "The expression (x >0 and y < 1) can be True or False, depending on the value of x and y.\n",
    "\n",
    "We assign the result of the evaluation of the expresson to a variable. This is to illustrate that a Boolean variable has been created."
   ]
  },
  {
   "cell_type": "code",
   "execution_count": 29,
   "metadata": {},
   "outputs": [
    {
     "name": "stdout",
     "output_type": "stream",
     "text": [
      "False \n",
      " <class 'bool'>\n"
     ]
    }
   ],
   "source": [
    "x = 0; y =1.2                                 # assigning numeric values to x and y\n",
    "\n",
    "result = x >0 and y < 1                      #assigns the outcome of the expression on RHS to a variable called result.\n",
    "\n",
    "print(result, '\\n', type(result))            #print the value of result and the type of data "
   ]
  },
  {
   "cell_type": "markdown",
   "metadata": {},
   "source": [
    "Every object in python has an implicit boolean value.  \n",
    "\n",
    "To find out an object's Boolean value, just type bool(object).\n",
    "\n",
    "See the examples below.\n",
    "\n",
    "A numeric value of 0 has a boolean value of False.\n",
    "Any numeric value other than 0 has a boolean value of True\n",
    "\n",
    "Any string has a Boolean value of True\n",
    "Empty string has Boolean value of False"
   ]
  },
  {
   "cell_type": "code",
   "execution_count": 30,
   "metadata": {},
   "outputs": [
    {
     "data": {
      "text/plain": [
       "False"
      ]
     },
     "execution_count": 30,
     "metadata": {},
     "output_type": "execute_result"
    }
   ],
   "source": [
    "bool(0)"
   ]
  },
  {
   "cell_type": "code",
   "execution_count": 31,
   "metadata": {},
   "outputs": [
    {
     "data": {
      "text/plain": [
       "True"
      ]
     },
     "execution_count": 31,
     "metadata": {},
     "output_type": "execute_result"
    }
   ],
   "source": [
    "bool(1.3)"
   ]
  },
  {
   "cell_type": "code",
   "execution_count": 32,
   "metadata": {},
   "outputs": [
    {
     "data": {
      "text/plain": [
       "True"
      ]
     },
     "execution_count": 32,
     "metadata": {},
     "output_type": "execute_result"
    }
   ],
   "source": [
    "bool('some string')"
   ]
  },
  {
   "cell_type": "code",
   "execution_count": 33,
   "metadata": {},
   "outputs": [
    {
     "data": {
      "text/plain": [
       "False"
      ]
     },
     "execution_count": 33,
     "metadata": {},
     "output_type": "execute_result"
    }
   ],
   "source": [
    "bool('')"
   ]
  },
  {
   "cell_type": "markdown",
   "metadata": {},
   "source": [
    "Since every object has an impliclit Boolean value, any object can be used as a condition to trigger an action.\n",
    "\n",
    "Take a very simple case as illustration.  If some condition is True, we want to print 'This is True'.  If that condition is False we want to print 'Nothing here'\n",
    "\n",
    "Notice the test below, we use a variable called aCondition.  aCondition can be True or False.  If True, then 'This is True' is printed.  If False, 'Nothing here' is printed.\n",
    "\n",
    "Note that 'Nothing here' is printed for our script below.  Obviously aCondition is False.  But what is aCondition.  It is an empty string, which is False.\n",
    "\n",
    "You can play around with it.  Assign a non-empty string (any word will do) to aCondition and see what you get."
   ]
  },
  {
   "cell_type": "code",
   "execution_count": 34,
   "metadata": {},
   "outputs": [
    {
     "name": "stdout",
     "output_type": "stream",
     "text": [
      "Nothing here\n"
     ]
    }
   ],
   "source": [
    "aCondition =''\n",
    "if aCondition:\n",
    "    print('This is True')\n",
    "else:\n",
    "    print('Nothing here')"
   ]
  },
  {
   "cell_type": "markdown",
   "metadata": {},
   "source": [
    "Python Bitwise Operators\n",
    "\n",
    "Let’s take two numbers- 5 and 7. We’ll show you their binary equivalents using the function bin() and apply ‘and’ and ‘&’ to 5 and 7."
   ]
  },
  {
   "cell_type": "code",
   "execution_count": 4,
   "metadata": {},
   "outputs": [
    {
     "data": {
      "text/plain": [
       "'0b101'"
      ]
     },
     "execution_count": 4,
     "metadata": {},
     "output_type": "execute_result"
    }
   ],
   "source": [
    "bin(5)"
   ]
  },
  {
   "cell_type": "code",
   "execution_count": 6,
   "metadata": {},
   "outputs": [
    {
     "data": {
      "text/plain": [
       "'0b111'"
      ]
     },
     "execution_count": 6,
     "metadata": {},
     "output_type": "execute_result"
    }
   ],
   "source": [
    "bin(7)"
   ]
  },
  {
   "cell_type": "code",
   "execution_count": 8,
   "metadata": {},
   "outputs": [
    {
     "data": {
      "text/plain": [
       "5"
      ]
     },
     "execution_count": 8,
     "metadata": {},
     "output_type": "execute_result"
    }
   ],
   "source": [
    "5 & 7"
   ]
  },
  {
   "cell_type": "code",
   "execution_count": 10,
   "metadata": {},
   "outputs": [
    {
     "data": {
      "text/plain": [
       "7"
      ]
     },
     "execution_count": 10,
     "metadata": {},
     "output_type": "execute_result"
    }
   ],
   "source": [
    "5|7"
   ]
  },
  {
   "cell_type": "code",
   "execution_count": 11,
   "metadata": {},
   "outputs": [
    {
     "data": {
      "text/plain": [
       "0"
      ]
     },
     "execution_count": 11,
     "metadata": {},
     "output_type": "execute_result"
    }
   ],
   "source": [
    "6^6"
   ]
  },
  {
   "cell_type": "code",
   "execution_count": 12,
   "metadata": {},
   "outputs": [
    {
     "data": {
      "text/plain": [
       "6"
      ]
     },
     "execution_count": 12,
     "metadata": {},
     "output_type": "execute_result"
    }
   ],
   "source": [
    "6^0"
   ]
  },
  {
   "cell_type": "code",
   "execution_count": 13,
   "metadata": {},
   "outputs": [
    {
     "data": {
      "text/plain": [
       "5"
      ]
     },
     "execution_count": 13,
     "metadata": {},
     "output_type": "execute_result"
    }
   ],
   "source": [
    "6^3"
   ]
  },
  {
   "cell_type": "code",
   "execution_count": 14,
   "metadata": {},
   "outputs": [
    {
     "data": {
      "text/plain": [
       "-46"
      ]
     },
     "execution_count": 14,
     "metadata": {},
     "output_type": "execute_result"
    }
   ],
   "source": [
    "~45"
   ]
  },
  {
   "cell_type": "code",
   "execution_count": 17,
   "metadata": {},
   "outputs": [
    {
     "name": "stdout",
     "output_type": "stream",
     "text": [
      " 0b101101\n",
      "-0b101110\n"
     ]
    }
   ],
   "source": [
    "print(bin(45))\n",
    "print(bin(-46))\n"
   ]
  },
  {
   "cell_type": "code",
   "execution_count": 18,
   "metadata": {},
   "outputs": [
    {
     "data": {
      "text/plain": [
       "45"
      ]
     },
     "execution_count": 18,
     "metadata": {},
     "output_type": "execute_result"
    }
   ],
   "source": [
    "~-46"
   ]
  },
  {
   "cell_type": "code",
   "execution_count": 19,
   "metadata": {},
   "outputs": [
    {
     "data": {
      "text/plain": [
       "4"
      ]
     },
     "execution_count": 19,
     "metadata": {},
     "output_type": "execute_result"
    }
   ],
   "source": [
    "2<<1"
   ]
  },
  {
   "cell_type": "code",
   "execution_count": 20,
   "metadata": {},
   "outputs": [
    {
     "data": {
      "text/plain": [
       "12"
      ]
     },
     "execution_count": 20,
     "metadata": {},
     "output_type": "execute_result"
    }
   ],
   "source": [
    "3<<2"
   ]
  },
  {
   "cell_type": "code",
   "execution_count": 21,
   "metadata": {},
   "outputs": [
    {
     "name": "stdout",
     "output_type": "stream",
     "text": [
      "0b10\n",
      "0b100\n",
      "0b11\n",
      "0b1100\n"
     ]
    }
   ],
   "source": [
    "print(bin(2))\n",
    "print(bin(4))\n",
    "print(bin(3))\n",
    "print(bin(12))"
   ]
  },
  {
   "cell_type": "code",
   "execution_count": 22,
   "metadata": {},
   "outputs": [
    {
     "data": {
      "text/plain": [
       "1"
      ]
     },
     "execution_count": 22,
     "metadata": {},
     "output_type": "execute_result"
    }
   ],
   "source": [
    "3>>1"
   ]
  },
  {
   "cell_type": "code",
   "execution_count": 23,
   "metadata": {},
   "outputs": [
    {
     "data": {
      "text/plain": [
       "3"
      ]
     },
     "execution_count": 23,
     "metadata": {},
     "output_type": "execute_result"
    }
   ],
   "source": [
    "31>>3"
   ]
  },
  {
   "cell_type": "code",
   "execution_count": 24,
   "metadata": {},
   "outputs": [
    {
     "name": "stdout",
     "output_type": "stream",
     "text": [
      "0b11\n",
      "0b1\n",
      "0b11111\n"
     ]
    }
   ],
   "source": [
    "print(bin(3))\n",
    "print(bin(1))\n",
    "print(bin(31))"
   ]
  },
  {
   "cell_type": "markdown",
   "metadata": {},
   "source": [
    "You would have expected them to return the same thing, but they’re not the same. One acts on the whole value, and one acts on each bit at once.\n",
    "\n",
    "Actually, ‘and’ sees the value on the left. If it has a True Boolean value, it returns whatever value is on the right. Otherwise, it returns False. So, here, 5 and 7 is the same as True and 7. Hence, it returns 7. However, 5&7 is the same as 101&111. This results in 101, which is binary for 5. Let’s look at each of these operators bit by bit (pun intended)."
   ]
  },
  {
   "cell_type": "code",
   "execution_count": null,
   "metadata": {
    "collapsed": true
   },
   "outputs": [],
   "source": [
    "lOOK AT THE CODE BELOW: The code does not work.\n",
    "What is the error?\n",
    "How to fix the error?\n"
   ]
  },
  {
   "cell_type": "code",
   "execution_count": 3,
   "metadata": {},
   "outputs": [
    {
     "name": "stdout",
     "output_type": "stream",
     "text": [
      "What is the radius of circle (in meters)? 10\n",
      "<class 'str'>\n"
     ]
    },
    {
     "ename": "TypeError",
     "evalue": "can't multiply sequence by non-int of type 'float'",
     "output_type": "error",
     "traceback": [
      "\u001b[1;31m---------------------------------------------------------------------------\u001b[0m",
      "\u001b[1;31mTypeError\u001b[0m                                 Traceback (most recent call last)",
      "\u001b[1;32m<ipython-input-3-0cb72965bbe0>\u001b[0m in \u001b[0;36m<module>\u001b[1;34m()\u001b[0m\n\u001b[0;32m      1\u001b[0m \u001b[0mradius\u001b[0m \u001b[1;33m=\u001b[0m \u001b[0minput\u001b[0m\u001b[1;33m(\u001b[0m\u001b[1;34m'What is the radius of circle (in meters)? '\u001b[0m\u001b[1;33m)\u001b[0m\u001b[1;33m\u001b[0m\u001b[0m\n\u001b[0;32m      2\u001b[0m \u001b[0mprint\u001b[0m\u001b[1;33m(\u001b[0m\u001b[0mtype\u001b[0m\u001b[1;33m(\u001b[0m\u001b[0mradius\u001b[0m\u001b[1;33m)\u001b[0m\u001b[1;33m)\u001b[0m\u001b[1;33m\u001b[0m\u001b[0m\n\u001b[1;32m----> 3\u001b[1;33m \u001b[0mcircumference\u001b[0m \u001b[1;33m=\u001b[0m \u001b[1;36m2\u001b[0m\u001b[1;33m*\u001b[0m\u001b[1;33m(\u001b[0m\u001b[1;36m22\u001b[0m\u001b[1;33m/\u001b[0m\u001b[1;36m7\u001b[0m\u001b[1;33m)\u001b[0m\u001b[1;33m*\u001b[0m\u001b[0mradius\u001b[0m\u001b[1;33m\u001b[0m\u001b[0m\n\u001b[0m\u001b[0;32m      4\u001b[0m \u001b[1;31m#circumference = 2*(22/7)\u001b[0m\u001b[1;33m\u001b[0m\u001b[1;33m\u001b[0m\u001b[0m\n\u001b[0;32m      5\u001b[0m \u001b[0marea\u001b[0m \u001b[1;33m=\u001b[0m \u001b[1;33m(\u001b[0m\u001b[1;36m22\u001b[0m\u001b[1;33m/\u001b[0m\u001b[1;36m7\u001b[0m\u001b[1;33m)\u001b[0m\u001b[1;33m*\u001b[0m\u001b[1;33m(\u001b[0m\u001b[0mradius\u001b[0m\u001b[1;33m)\u001b[0m\u001b[1;33m**\u001b[0m\u001b[1;36m2\u001b[0m\u001b[1;33m\u001b[0m\u001b[0m\n",
      "\u001b[1;31mTypeError\u001b[0m: can't multiply sequence by non-int of type 'float'"
     ]
    }
   ],
   "source": [
    "radius = input('What is the radius of circle (in meters)? ')\n",
    "print(type(radius))\n",
    "circumference = 2*(22/7)*radius\n",
    "#circumference = 2*(22/7)\n",
    "area = (22/7)*(radius)**2\n",
    "print('Circumference: ', circumference, 'Area:', area)"
   ]
  },
  {
   "cell_type": "code",
   "execution_count": 2,
   "metadata": {},
   "outputs": [
    {
     "name": "stdout",
     "output_type": "stream",
     "text": [
      "What is the radius of circle (in meters)? 10\n",
      "<class 'float'>\n",
      "Circumference:  62.857142857142854 Area: 314.2857142857143\n"
     ]
    }
   ],
   "source": [
    "radius = float(input('What is the radius of circle (in meters)? '))\n",
    "print(type(radius))\n",
    "circumference = 2*(22/7)*radius\n",
    "#circumference = 2*(22/7)\n",
    "area = (22/7)*(radius)**2\n",
    "print('Circumference: ', circumference, 'Area:', area)"
   ]
  }
 ],
 "metadata": {
  "anaconda-cloud": {},
  "kernelspec": {
   "display_name": "Python 3",
   "language": "python",
   "name": "python3"
  },
  "language_info": {
   "codemirror_mode": {
    "name": "ipython",
    "version": 3
   },
   "file_extension": ".py",
   "mimetype": "text/x-python",
   "name": "python",
   "nbconvert_exporter": "python",
   "pygments_lexer": "ipython3",
   "version": "3.6.3"
  }
 },
 "nbformat": 4,
 "nbformat_minor": 1
}
