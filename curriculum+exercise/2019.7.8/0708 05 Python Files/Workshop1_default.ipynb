{
 "cells": [
  {
   "cell_type": "markdown",
   "metadata": {},
   "source": [
    "# Workshop on List and Dictionary"
   ]
  },
  {
   "cell_type": "markdown",
   "metadata": {},
   "source": [
    "# # 1 List Creation and Selection"
   ]
  },
  {
   "cell_type": "markdown",
   "metadata": {},
   "source": [
    "__1.  Create a list, named listOfYears.  In it, just list the years from 1959 to 2018.__"
   ]
  },
  {
   "cell_type": "code",
   "execution_count": 1,
   "metadata": {},
   "outputs": [
    {
     "data": {
      "text/plain": [
       "[1959,\n",
       " 1960,\n",
       " 1961,\n",
       " 1962,\n",
       " 1963,\n",
       " 1964,\n",
       " 1965,\n",
       " 1966,\n",
       " 1967,\n",
       " 1968,\n",
       " 1969,\n",
       " 1970,\n",
       " 1971,\n",
       " 1972,\n",
       " 1973,\n",
       " 1974,\n",
       " 1975,\n",
       " 1976,\n",
       " 1977,\n",
       " 1978,\n",
       " 1979,\n",
       " 1980,\n",
       " 1981,\n",
       " 1982,\n",
       " 1983,\n",
       " 1984,\n",
       " 1985,\n",
       " 1986,\n",
       " 1987,\n",
       " 1988,\n",
       " 1989,\n",
       " 1990,\n",
       " 1991,\n",
       " 1992,\n",
       " 1993,\n",
       " 1994,\n",
       " 1995,\n",
       " 1996,\n",
       " 1997,\n",
       " 1998,\n",
       " 1999,\n",
       " 2000,\n",
       " 2001,\n",
       " 2002,\n",
       " 2003,\n",
       " 2004,\n",
       " 2005,\n",
       " 2006,\n",
       " 2007,\n",
       " 2008,\n",
       " 2009,\n",
       " 2010,\n",
       " 2011,\n",
       " 2012,\n",
       " 2013,\n",
       " 2014,\n",
       " 2015,\n",
       " 2016,\n",
       " 2017,\n",
       " 2018]"
      ]
     },
     "execution_count": 1,
     "metadata": {},
     "output_type": "execute_result"
    }
   ],
   "source": [
    "listOfYears = \n",
    "#print the list\n"
   ]
  },
  {
   "cell_type": "markdown",
   "metadata": {},
   "source": [
    "__2.  Use the listOfYears you have created to do the following__\n",
    "\n",
    "    i.  Find the length of the listOfYears \n",
    "    ii.  Find the index of the year 1980 on the listOfYears\n",
    "    iii  Create another list containing all the leap years from the original listOfYears.  Use list comprehension."
   ]
  },
  {
   "cell_type": "code",
   "execution_count": 3,
   "metadata": {},
   "outputs": [
    {
     "data": {
      "text/plain": [
       "60"
      ]
     },
     "execution_count": 3,
     "metadata": {},
     "output_type": "execute_result"
    }
   ],
   "source": [
    "#i.  Find the length of the listOfYears \n"
   ]
  },
  {
   "cell_type": "code",
   "execution_count": 7,
   "metadata": {},
   "outputs": [
    {
     "data": {
      "text/plain": [
       "21"
      ]
     },
     "execution_count": 7,
     "metadata": {},
     "output_type": "execute_result"
    }
   ],
   "source": [
    "#ii.  Find the index of the year 1980 on the listOfYears\n"
   ]
  },
  {
   "cell_type": "code",
   "execution_count": 7,
   "metadata": {},
   "outputs": [
    {
     "data": {
      "text/plain": [
       "[1960,\n",
       " 1964,\n",
       " 1968,\n",
       " 1972,\n",
       " 1976,\n",
       " 1980,\n",
       " 1984,\n",
       " 1988,\n",
       " 1992,\n",
       " 1996,\n",
       " 2000,\n",
       " 2004,\n",
       " 2008,\n",
       " 2012,\n",
       " 2016]"
      ]
     },
     "execution_count": 7,
     "metadata": {},
     "output_type": "execute_result"
    }
   ],
   "source": [
    "#iii  Create another list containing all the leap years from the original listOfYears.  Use list comprehension.\n",
    "listofLeapYears = \n",
    "listofLeapYears"
   ]
  },
  {
   "cell_type": "markdown",
   "metadata": {},
   "source": [
    "## 2.0  Farenheit to Celcius Convertor Using Lists"
   ]
  },
  {
   "cell_type": "markdown",
   "metadata": {},
   "source": [
    "__1. Create a convertor using list instead of formula. <br>\n",
    "Convert from Farenheit to Celcius (range in Farenheit from 0 to 500 in increment of 1)__\n",
    "\n",
    "Function of convertor:\n",
    "1.  Ask user the temperature in Farenheit to convert from.\n",
    "2.  Give the answer in Celcius.\n",
    "\n",
    "Before writing the code, think of the steps you need to go through to fulfil the functions.  You need to comply with the constraints given. "
   ]
  },
  {
   "cell_type": "code",
   "execution_count": 41,
   "metadata": {
    "collapsed": true
   },
   "outputs": [],
   "source": [
    "Farenheit = list()\n",
    "#create another list for the value in Celcius\n",
    "Celcius = "
   ]
  },
  {
   "cell_type": "code",
   "execution_count": 54,
   "metadata": {},
   "outputs": [
    {
     "name": "stdout",
     "output_type": "stream",
     "text": [
      "Temperature in Farenheit:   100\n",
      "The temperature in Celcius is: 37.78 degree Celcius\n"
     ]
    }
   ],
   "source": [
    "#Ask user the temperature in Farenheit to convert from.\n",
    "#Give the answer in Celcius.\n",
    "tempF = \n",
    "ind = \n",
    "tempC = \n",
    "\n",
    "# We use format codes in the print command below\n",
    "#{:.2f} format code is to print \"tempC\" with 2 decimal places.  \n",
    "#Any number to left of : sign in {:.2f} denotes the index position in the .format() that the format code is for.  \n",
    "# Leaving it blank uses the defualt - the first format code is for position 0, second for position 1 and so on.\n",
    "\n",
    "print (''.format('The temperature in Celcius is:',  tempC))  "
   ]
  },
  {
   "cell_type": "markdown",
   "metadata": {},
   "source": [
    "I have deliberately used formatting codes to print the output.  \n",
    "\n",
    "Further details of the formatting code can be obtained from:\n",
    "\n",
    "https://mkaz.blog/code/python-string-format-cookbook/\n",
    "https://pyformat.info/\n",
    "https://www.python.org/dev/peps/pep-3101/"
   ]
  },
  {
   "cell_type": "markdown",
   "metadata": {},
   "source": [
    "## 3.0  Using Fractions"
   ]
  },
  {
   "cell_type": "markdown",
   "metadata": {},
   "source": [
    "Now is time to get familiar with fractions.  There is a built-in library module for fractions.\n",
    "\n",
    "Before operating with fractions, write this in your code:\n",
    "\n",
    "    from fractions import Fraction\n",
    "\n",
    "__1.  Add the fractions 3/4 and 1/2 and output the result__\n",
    " "
   ]
  },
  {
   "cell_type": "code",
   "execution_count": 59,
   "metadata": {},
   "outputs": [
    {
     "data": {
      "text/plain": [
       "Fraction(5, 4)"
      ]
     },
     "execution_count": 59,
     "metadata": {},
     "output_type": "execute_result"
    }
   ],
   "source": [
    "\n"
   ]
  },
  {
   "cell_type": "markdown",
   "metadata": {},
   "source": [
    "__2.  Now convert the sum of the fractions 3/4 and 1/2 to decimals and multiply by 10 <br>\n",
    "      Output the results__"
   ]
  },
  {
   "cell_type": "code",
   "execution_count": 61,
   "metadata": {},
   "outputs": [
    {
     "data": {
      "text/plain": [
       "12.5"
      ]
     },
     "execution_count": 61,
     "metadata": {},
     "output_type": "execute_result"
    }
   ],
   "source": [
    "\n"
   ]
  },
  {
   "cell_type": "markdown",
   "metadata": {},
   "source": [
    "__3.  Assign the fraction 3/4 as a string to variable x.\n",
    "Convert x to a proper fraction and output the result__"
   ]
  },
  {
   "cell_type": "code",
   "execution_count": 65,
   "metadata": {},
   "outputs": [
    {
     "data": {
      "text/plain": [
       "Fraction(3, 4)"
      ]
     },
     "execution_count": 65,
     "metadata": {},
     "output_type": "execute_result"
    }
   ],
   "source": [
    "\n",
    "x =\n"
   ]
  },
  {
   "cell_type": "markdown",
   "metadata": {},
   "source": [
    "## 4.0  Cups to Grams Convertor Using Fractions and Formula"
   ]
  },
  {
   "cell_type": "markdown",
   "metadata": {},
   "source": [
    "Now build a program to convert the measurement of flour.\n",
    "Recipes usually provide the amount of flour needed in terms of cups.\n",
    "\n",
    "As a baker, I usually want the amount to be in terms of grams.\n",
    "1 cup of flour weighs about 128g - this is dependent on the type of flour but we will ignore the fine point for this exercise.\n",
    "\n",
    "You have to read in the number of cups of flour that the recipe calls for.  Then use the formula (number of cups * 128g per cup) to convert the amount to weight in grams.  After that, print out the answer.\n",
    "\n",
    "Seems simple enough.\n",
    "\n",
    "Except that you have to deal with the fact that the user of the program will enter the number of cups in fraction, or mixed number and fraction.  \n",
    "\n",
    "For example, 3/4 cups or 1 7/8 cups.  Surely, you do not expect your use to mentally do the maths and enter the required amounts as 0.75 cups or 1.875 cups.\n",
    "\n",
    "So you have to read in the inputs as fractions.  From the inputs, you have to convert the fractions to decimals so that you can apply the formula:\n",
    "\n",
    "    weight = number of cups x 128\n",
    "    \n",
    "Give the following prompt to the user.\n",
    "\n",
    "'Enter the number of cups in the following manner: whole number(if necessary), space, then fraction. E.g. 1 7/8 )\\n  '\n",
    "\n",
    "**1.  Build a Cup to Grams Convertor According to the Specification Above **"
   ]
  },
  {
   "cell_type": "code",
   "execution_count": 67,
   "metadata": {},
   "outputs": [
    {
     "name": "stdout",
     "output_type": "stream",
     "text": [
      "Enter the number of cups in the following manner: whole number(if necessary), space, then fraction. E.g. 1 7/8 )\n",
      "  1 4/5\n",
      "Weight 230g\n"
     ]
    }
   ],
   "source": [
    "from fractions import Fraction\n",
    "cupConversion = input('Enter the number of cups in the following manner: whole number(if necessary), space, then fraction. E.g. 1 7/8 )\\n  ')\n",
    "cupConversionSplit= \n",
    "cupConversionSplitDec = \n",
    "\n",
    "weight = \n",
    "print('{} {:.0f}g'.format('Weight', weight))\n"
   ]
  },
  {
   "cell_type": "markdown",
   "metadata": {},
   "source": [
    "## 5.0  Keeping Track of Fruits"
   ]
  },
  {
   "cell_type": "markdown",
   "metadata": {},
   "source": [
    "You are running a fruit store.  You sell only five types of fruits.  The data below shows the fruits, together with the prices and the amount available at the beginning of the day.\n",
    "\n",
    "\n",
    "|  Fruit  | Price  |  Available  |\n",
    "|---------|--------|-------------|\n",
    "|  Apple  | 0.20   |    30       |\n",
    "|---------|--------|-------------|\n",
    "| Orange  | 0.40   |    25       |\n",
    "|---------|--------|-------------|\n",
    "|  Pear   | 0.25   |    40       |\n",
    "|---------|--------|-------------|\n",
    "|  Mango  | 1.50   |    20       |\n",
    "|---------|--------|-------------|\n",
    "|   Kiwi  | 1.00   |    50       |\n",
    "\n",
    "\n",
    "\n",
    "**1.  Build a dictionary containing the fruit showing the price and the availability. \n",
    "Then allow the user to input the name of the fruit for which they require the price and stock information\n",
    "Output the price and stock information**"
   ]
  },
  {
   "cell_type": "code",
   "execution_count": 3,
   "metadata": {},
   "outputs": [
    {
     "data": {
      "text/plain": [
       "0.2"
      ]
     },
     "execution_count": 3,
     "metadata": {},
     "output_type": "execute_result"
    }
   ],
   "source": [
    "from collections import defaultdict\n",
    "# build the dictoinary and assign values below\n",
    "Fruits = defaultdict(dict)\n",
    "Fruits[''][''] = \n",
    "Fruits[''][''] = \n",
    "Fruits[''][''] = \n",
    "Fruits[''][''] = \n",
    "Fruits[''][''] = \n",
    "Fruits[''][''] = \n",
    "Fruits[''][''] = \n",
    "Fruits[''][''] = \n",
    "Fruits[''][''] = \n",
    "Fruits[''][''] = \n",
    "\n",
    "#print the price of apple below\n",
    "\n"
   ]
  },
  {
   "cell_type": "markdown",
   "metadata": {},
   "source": [
    "Remarks:\n",
    "Dictionaries are a convenient way to store data for later retrieval by name (key). Keys must be unique, immutable objects, and are typically strings. The values in a dictionary can be anything. For many applications the values are simple types such as integers and strings.\n",
    "\n",
    "It gets more interesting when the values in a dictionary are collections (lists, dicts, etc.) In this case, the value (an empty list or dict) must be initialized the first time a given key is used. While this is relatively easy to do manually, the defaultdict type automates and simplifies these kinds of operations.\n",
    "\n",
    "A defaultdict works exactly like a normal dict, but it is initialized with a function (“default factory”) that takes no arguments and provides the default value for a nonexistent key.\n",
    "\n",
    "A defaultdict will never raise a KeyError. Any key that does not exist gets the value returned by the default factory."
   ]
  },
  {
   "cell_type": "code",
   "execution_count": 2,
   "metadata": {},
   "outputs": [
    {
     "name": "stdout",
     "output_type": "stream",
     "text": [
      "defaultdict(<class 'dict'>, {'Apple': {'Price': 0.2, 'Stock': 30}, 'Orange': {'Price': 0.4, 'Stock': 25}, 'Pear': {'Price': 0.25, 'Stock': 40}, 'Mango': {'Price': 1.5, 'Stock': 20}, 'Kiwi': {'Price': 1.0, 'Stock': 50}})\n"
     ]
    }
   ],
   "source": [
    "#Alternative method to tackle this problem - using a for loop\n",
    "\n",
    "from collections import defaultdict\n",
    "\n",
    "FFruits = defaultdict(dict)\n",
    "\n",
    "fr = ('Apple','Orange','Pear','Mango','Kiwi')\n",
    "pr = (0.2,0.4,0.25,1.50,1.00)\n",
    "st = (30,25,40,20,50)\n",
    "i = int(0)\n",
    "\n",
    "# use a loop to assign the values to dictionary here\n",
    "\n",
    "\n",
    "print(FFruits)"
   ]
  },
  {
   "cell_type": "code",
   "execution_count": 4,
   "metadata": {},
   "outputs": [
    {
     "name": "stdout",
     "output_type": "stream",
     "text": [
      "Name of fruit (Apple, Orange, Pear, Mango, Kiwi):  Apple\n",
      "Apple \n",
      " Price $0.20\n",
      " Stock 30\n",
      "\n"
     ]
    }
   ],
   "source": [
    "fruit = input('Name of fruit (Apple, Orange, Pear, Mango, Kiwi):  ' )\n",
    "#Print the output accordingly from the dictionary\n"
   ]
  },
  {
   "cell_type": "markdown",
   "metadata": {},
   "source": [
    "At the middle of the day, a lorry supplying fruits drop the following quantity at the store.\n",
    "\n",
    "\n",
    "|  Fruit  |   Qty        |\n",
    "|---------|--------------|\n",
    "|  Apple  |     20       |\n",
    "|---------|--------------|\n",
    "| Orange  |     15       |\n",
    "|---------|--------------|\n",
    "|  Pear   |     10       |\n",
    "|---------|--------------|\n",
    "|  Mango  |     12       |\n",
    "|---------|--------------|\n",
    "|   Kiwi  |     0        |\n",
    "\n",
    "**2.  Update the stock level in the dictionary you have created to account for the arrivals.**"
   ]
  },
  {
   "cell_type": "code",
   "execution_count": 5,
   "metadata": {},
   "outputs": [
    {
     "name": "stdout",
     "output_type": "stream",
     "text": [
      "Please enter the new quantity of each fruit supplied.  Put 0 if none is supplied\n",
      "Number of Apples Supplied:  30\n",
      "Number of Oranges Supplied:  30\n",
      "Number of Pears Supplied:  30\n",
      "Number of Mangoes Supplied:  30\n",
      "Number of Kiwis Supplied:  30\n"
     ]
    }
   ],
   "source": [
    "print('Please enter the new quantity of each fruit supplied.  Put 0 if none is supplied')\n",
    "\n",
    "Fruits['Apple']['Stock'] = Fruits['Apple']['Stock'] + int(input('Number of \\u001b[4mApples\\u001b[0m Supplied:  '))     \n",
    "# update the stock for the other fruits below\n",
    "\n",
    "\n"
   ]
  },
  {
   "cell_type": "markdown",
   "metadata": {},
   "source": [
    "Note above that there are some strange characters before the name of fruit e.g., \\u001b[4m\n",
    "These are ANSI escape codes to allow us to underline the name of the fruit in the prompt.\n",
    "\n",
    "\\u001b[   are the standrd format for the escape characters.\n",
    "\n",
    "4m following is for underlining.\n",
    "\n",
    "use \\u001b[0 to denote the end of the formatting.\n",
    "\n",
    "\\x1b[ or \\033[ can be used in place of \\u001b[\n",
    "\n",
    "For more details on the formatting code, see:\n",
    "\n",
    "http://www.lihaoyi.com/post/BuildyourownCommandLinewithANSIescapecodes.html"
   ]
  },
  {
   "cell_type": "markdown",
   "metadata": {},
   "source": [
    "**3. Print out the new stock level of all the fruits. **"
   ]
  },
  {
   "cell_type": "code",
   "execution_count": 6,
   "metadata": {},
   "outputs": [
    {
     "name": "stdout",
     "output_type": "stream",
     "text": [
      "\u001b[4mFruit                 Stock\u001b[0m      \n",
      "Apple                   60\n",
      "Orange                  55\n",
      "Pear                    70\n",
      "Mango                   50\n",
      "Kiwi               80\n"
     ]
    }
   ],
   "source": [
    "print('{:<20} {:^20}'.format('\\033[4mFruit', 'Stock\\033[0m'))\n",
    "# print the stocks of the fruits below\n"
   ]
  },
  {
   "cell_type": "markdown",
   "metadata": {},
   "source": [
    "A customer comes by and purchases the following quantity of fruits at the store.\n",
    "\n",
    "|  Fruit  |   Qty        |\n",
    "|---------|--------------|\n",
    "|  Apple  |     5        |\n",
    "|---------|--------------|\n",
    "| Orange  |     4        |\n",
    "|---------|--------------|\n",
    "|  Pear   |     3        |\n",
    "|---------|--------------|\n",
    "|  Mango  |     1        |\n",
    "|---------|--------------|\n",
    "|   Kiwi  |     2        |\n",
    "\n",
    "\n",
    "**4.  Can you **\n",
    "\n",
    "**i.  compute the total cost to the customer for the purchase; and** <br>\n",
    "**ii.  update the stock level of the fruits**\n"
   ]
  },
  {
   "cell_type": "code",
   "execution_count": 6,
   "metadata": {},
   "outputs": [
    {
     "name": "stdout",
     "output_type": "stream",
     "text": [
      "Please enter the quantity of each fruit purchased.  Put 0 if none is purchased.\n",
      "Number of Apples Purchased:  5\n",
      "Number of Oranges Purchased:  4\n",
      "Number of Pears Purchased:  3\n",
      "Number of Mangoes Purchased:  1\n",
      "Number of Kiwis Purchased:  2\n",
      "Total Cost: $6.85\n"
     ]
    }
   ],
   "source": [
    "print('Please enter the quantity of each fruit purchased.  Put 0 if none is purchased.')\n",
    "\n",
    "applePurchased = int(input('Number of \\033[4mApples\\033[0m Purchased:  '))  \n",
    "# input numbers of purchase for other fruits\n",
    "\n",
    "\n",
    "# calculate the cost of purchase for individual fruit\n",
    "appleCost = \n",
    "orangeCost = \n",
    "pearCost = \n",
    "mangoCost = \n",
    "kiwiCost = \n",
    "\n",
    "#sum up the total cost of the purchase\n",
    "totalCost = sum([appleCost,orangeCost,pearCost,mangoCost,kiwiCost])\n",
    "\n",
    "# print the total cost accordingly\n"
   ]
  },
  {
   "cell_type": "code",
   "execution_count": 7,
   "metadata": {},
   "outputs": [
    {
     "name": "stdout",
     "output_type": "stream",
     "text": [
      "\u001b[4mFruit                 Stock\u001b[0m      \n",
      "Apple                   45\n",
      "Orange                  36\n",
      "Pear                    47\n",
      "Mango                   31\n",
      "Kiwi                    48\n"
     ]
    }
   ],
   "source": [
    "# ii. update the stock level of the fruits\n",
    "\n",
    "\n",
    "#print the updated stock levels of individual fruits\n",
    "\n",
    "print('{:<20} {:^20}'.format('\\033[4mFruit', 'Stock\\033[0m'))\n"
   ]
  }
 ],
 "metadata": {
  "anaconda-cloud": {},
  "kernelspec": {
   "display_name": "Python 3",
   "language": "python",
   "name": "python3"
  },
  "language_info": {
   "codemirror_mode": {
    "name": "ipython",
    "version": 3
   },
   "file_extension": ".py",
   "mimetype": "text/x-python",
   "name": "python",
   "nbconvert_exporter": "python",
   "pygments_lexer": "ipython3",
   "version": "3.6.3"
  }
 },
 "nbformat": 4,
 "nbformat_minor": 2
}
