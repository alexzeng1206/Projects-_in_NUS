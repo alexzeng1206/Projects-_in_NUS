{
 "cells": [
  {
   "cell_type": "markdown",
   "metadata": {},
   "source": [
    "## 1.0 Comparisons Using Logical Operators"
   ]
  },
  {
   "cell_type": "markdown",
   "metadata": {},
   "source": [
    "Let us say we want to make a very simple comparison and from that outcome, print the action to take. \n",
    "Assume that we are tracking the price of a stock and have a very simple rule. \n",
    "If the price goes up, we will buy. Otherwise, we will not buy. \n",
    "We use the IF statement to control which advice to give (or print): Buy or Don't Buy. \n",
    "The illustration is given below"
   ]
  },
  {
   "cell_type": "code",
   "execution_count": 3,
   "metadata": {},
   "outputs": [
    {
     "name": "stdout",
     "output_type": "stream",
     "text": [
      "What was the change in price: 10\n",
      "Buy\n",
      "Buy more\n"
     ]
    }
   ],
   "source": [
    "priceChange = float(input('What was the change in price: '))\n",
    "if priceChange > 0:\n",
    "    print('Buy')\n",
    "    print('Buy more')\n",
    "else:\n",
    "    print(\"Don't Buy\")"
   ]
  },
  {
   "cell_type": "markdown",
   "metadata": {},
   "source": [
    "When there is only one if statement followed by the else statement, we can shorten the whole syntax to\n",
    "\n",
    "statement I if condition else statement II\n",
    "\n",
    "The code below illustrates this shortened syntax"
   ]
  },
  {
   "cell_type": "code",
   "execution_count": 2,
   "metadata": {},
   "outputs": [
    {
     "name": "stdout",
     "output_type": "stream",
     "text": [
      "What was the change in price: -1\n",
      "Don't Buy\n"
     ]
    }
   ],
   "source": [
    "priceChange = float(input('What was the change in price: '))\n",
    "print('Buy') if priceChange > 0 else print(\"Don't Buy\")"
   ]
  },
  {
   "cell_type": "markdown",
   "metadata": {},
   "source": [
    "It is common to encounter queries that can yield multiple conditions rather than the simple True-False case above.  \n",
    "\n",
    "A simple example is one in which a business charges its customers according to age.  Transit, cinemas are common services that practice age-based charging.\n",
    "\n",
    "The illustration below assumes that customers are categorized into 4 age groups for charging purposes.\n",
    "\n",
    "We use the if,elif (the syntax for else-if), and else statement to decide on which rate to charge.\n",
    "\n",
    "The program starts from the first if block and executes the first if (or elif) block that is true.  \n",
    "Hence, you will note that we can test the elif block with only one condition even though there are two condtions.\n",
    "For example, the normal rate will apply to those who are above 12 and below 55.  However, the relevant elif block only checks for the condition that age <55. Will those under age of 12 be charged the normal rate because of this elif loop.  The answer is no.  This is because, if the customer is under 12, the first if block (where test if age < 12) is executed and none of the other blocks will be executed.\n",
    "\n",
    "Finally, if the customer is above 80, the else-block is executed."
   ]
  },
  {
   "cell_type": "code",
   "execution_count": 67,
   "metadata": {},
   "outputs": [
    {
     "name": "stdout",
     "output_type": "stream",
     "text": [
      "free\n"
     ]
    }
   ],
   "source": [
    "age = int(input('Enter age of customer: '))\n",
    "if age < 12 :\n",
    "    print('Free')\n",
    "elif age < 55:\n",
    "    print ('Normal Rate')\n",
    "elif age < 80 :\n",
    "    print ('Senior Citizen Discount')\n",
    "else:\n",
    "    print ('free')"
   ]
  },
  {
   "cell_type": "markdown",
   "metadata": {},
   "source": [
    "You can use nested if-else loop for the same problem above.\n",
    "\n",
    "Below is the illustration for the nested if-else loop.\n",
    "\n",
    "The first outer loop is the simplest - it tests whether customer's age >= 12.  If false, it is free for him (see the last else block)\n",
    "\n",
    "If that condition (age >=12) is true, we have to check for other condition.  \n",
    "\n",
    "We next test a condition that we can make a decision immediately if it is true - whether the customer age >= 80.  If true, it is free for him.\n",
    "\n",
    "If the age > 80 condition (second if-else block) is false, we go to the else statement.\n",
    "\n",
    "Here again, there are two options.  Whether age >= 55 is true of false.  We use the if-else block based on the outcome of this evalutation. "
   ]
  },
  {
   "cell_type": "code",
   "execution_count": 75,
   "metadata": {},
   "outputs": [
    {
     "name": "stdout",
     "output_type": "stream",
     "text": [
      "Normal Rate\n"
     ]
    }
   ],
   "source": [
    "age = int(input('Enter age of customer: '))\n",
    "if age >=12 :\n",
    "    if age >= 80 :\n",
    "        print('free')\n",
    "    else:\n",
    "        if age >= 55:\n",
    "            print ('Senior Citizen Discount')\n",
    "        else :\n",
    "            print ('Normal Rate')\n",
    "else:\n",
    "    print('Free')"
   ]
  },
  {
   "cell_type": "markdown",
   "metadata": {},
   "source": [
    "Below is an illustration of the use of a logical operator 'or'.\n",
    "\n",
    "Note the syntax for using the 'or'"
   ]
  },
  {
   "cell_type": "code",
   "execution_count": 3,
   "metadata": {},
   "outputs": [
    {
     "name": "stdout",
     "output_type": "stream",
     "text": [
      "Enter age of customer: 89\n",
      "Free\n"
     ]
    }
   ],
   "source": [
    "age = int(input('Enter age of customer: '))\n",
    "if age < 12 or  age >= 80 :\n",
    "    print('Free')\n",
    "elif age >=55 :\n",
    "    print ('Senior Citizen Discount')\n",
    "else :\n",
    "    print ('Normal Rate')"
   ]
  },
  {
   "cell_type": "code",
   "execution_count": 6,
   "metadata": {},
   "outputs": [
    {
     "name": "stdout",
     "output_type": "stream",
     "text": [
      "10\n",
      "nooo\n"
     ]
    }
   ],
   "source": [
    "a=int(input())\n",
    "if a == 0:\n",
    "    print('i have zero')\n",
    "else:\n",
    "    print('nooo')"
   ]
  },
  {
   "cell_type": "markdown",
   "metadata": {},
   "source": [
    "Below is an example of the use of 'in' operator - a membership check.\n",
    "\n",
    "You will note that it may sometimes not give you what you expect.  In the first usage, 'john' and johnny will both return true."
   ]
  },
  {
   "cell_type": "code",
   "execution_count": 4,
   "metadata": {},
   "outputs": [
    {
     "name": "stdout",
     "output_type": "stream",
     "text": [
      "john is a good boy\n",
      "john is a good boy\n",
      "send to john\n"
     ]
    }
   ],
   "source": [
    "sentence = input()\n",
    "print (sentence)\n",
    "if 'john' in sentence:\n",
    "    print('send to john')\n",
    "else:\n",
    "    print('return to sender')"
   ]
  },
  {
   "cell_type": "markdown",
   "metadata": {},
   "source": [
    "One way to resolve the problem is to split the sentence into a list and so, the comparioson is with the elements in the list."
   ]
  },
  {
   "cell_type": "code",
   "execution_count": 13,
   "metadata": {},
   "outputs": [
    {
     "name": "stdout",
     "output_type": "stream",
     "text": [
      "johnny is a good student who does not study\n",
      "['johnny', 'is', 'a', 'good', 'student', 'who', 'does', 'not', 'study']\n",
      "return to sender\n"
     ]
    }
   ],
   "source": [
    "sentence = input()\n",
    "modified_sentence = sentence.split()\n",
    "print(modified_sentence)\n",
    "if 'john' in modified_sentence:\n",
    "    print('send to john')\n",
    "else:\n",
    "    print('return to sender')"
   ]
  },
  {
   "cell_type": "markdown",
   "metadata": {},
   "source": [
    "Of course, we can always use the regular expression that can be used to search for any pattern that you care. "
   ]
  },
  {
   "cell_type": "code",
   "execution_count": 11,
   "metadata": {},
   "outputs": [
    {
     "name": "stdout",
     "output_type": "stream",
     "text": [
      "johnny is a good student\n",
      "junk\n"
     ]
    }
   ],
   "source": [
    "import re\n",
    "\n",
    "sentence = input()\n",
    "if re.search(r'\\bjohn\\b', sentence):\n",
    "    print('send to john')\n",
    "else:\n",
    "    print('return to sender')\n",
    "             "
   ]
  },
  {
   "cell_type": "code",
   "execution_count": 5,
   "metadata": {},
   "outputs": [
    {
     "name": "stdout",
     "output_type": "stream",
     "text": [
      "12 24\n"
     ]
    },
    {
     "data": {
      "text/plain": [
       "36"
      ]
     },
     "execution_count": 5,
     "metadata": {},
     "output_type": "execute_result"
    }
   ],
   "source": [
    "a = input()\n",
    "b1 = a.split()\n",
    "\n",
    "b = map(int,b1)\n",
    "sum(list(b))"
   ]
  },
  {
   "cell_type": "markdown",
   "metadata": {},
   "source": [
    "## 2.0  While Loop"
   ]
  },
  {
   "cell_type": "markdown",
   "metadata": {},
   "source": [
    "We take a very simple example to illustrate the use of the while loop.\n",
    "\n",
    "Let's say we want to take the sum of integer numbers from 1 to n.\n",
    "The statements in the while-block will be executed each time the expression (i <=n) is true.\n",
    "\n",
    "Assuming that we enter a positive integer, n, greater than 0, this expression (i <= n) will be true the first time and the statements in the while-block (those statements after while experession that are indented are part of the while-block) will be executed.\n",
    "\n",
    "The total records the sum of the integer we want by adding the current value of i to the existing total.\n",
    "\n",
    "The value of i is increased by 1 and then since this is the last statement in the while-block, the program goes back to the top of the while-block to again evaluate whether (i <= n) is true.  If true, the current value of i is added to the total, and i is increased by 1 again.  The iteration goes on until the expression (i <=n) is False.\n",
    "\n",
    "When the program exits the while-block, the total is printed with the print(total) statement.\n",
    "Note that the print(total) statment is not indented and is therefore outside the while-block.\n"
   ]
  },
  {
   "cell_type": "code",
   "execution_count": 6,
   "metadata": {},
   "outputs": [
    {
     "name": "stdout",
     "output_type": "stream",
     "text": [
      "Enter the integer that you want to sum to: 3\n",
      "6\n"
     ]
    }
   ],
   "source": [
    "n = int(input('Enter the integer that you want to sum to: '))\n",
    "i = 0\n",
    "total = 0\n",
    "while i <=n:\n",
    "    total += i\n",
    "    i += 1\n",
    "print (total)"
   ]
  },
  {
   "cell_type": "markdown",
   "metadata": {},
   "source": [
    "The function of the code below is same as the one above - to take a sum of integers from 1 to n.  It is put here to illustrate the importance of the indent.  \n",
    "\n",
    "Note that unlike the example above, the print(total) function is idented within the while-block.  It is part of the while-block and everytime the while-block is executed, the print(total) statement will be executed.  \n",
    "\n",
    "This is different from the example above where the print(total) statement is outside the while block and executed only when the program exits the while block."
   ]
  },
  {
   "cell_type": "code",
   "execution_count": 7,
   "metadata": {},
   "outputs": [
    {
     "name": "stdout",
     "output_type": "stream",
     "text": [
      "Enter the integer that you want to sum to: 4\n",
      "1\n",
      "3\n",
      "6\n",
      "10\n"
     ]
    }
   ],
   "source": [
    "n = int(input('Enter the integer that you want to sum to: '))\n",
    "i = 1\n",
    "total = 0\n",
    "while i <=n:\n",
    "    total += i\n",
    "    i += 1\n",
    "    print (total)"
   ]
  },
  {
   "cell_type": "markdown",
   "metadata": {},
   "source": [
    "Let's say we want to write a simple program to sum up our golf scores"
   ]
  },
  {
   "cell_type": "code",
   "execution_count": 1,
   "metadata": {},
   "outputs": [
    {
     "name": "stdout",
     "output_type": "stream",
     "text": [
      "50\n"
     ]
    }
   ],
   "source": [
    "n = int(input('Number of holes played: '))\n",
    "i = 1\n",
    "sum = 0\n",
    "while i <= n:\n",
    "    m = int(input('Score for hole number '+ str(i) +':'))\n",
    "    sum +=m\n",
    "    i +=1\n",
    "print(sum)"
   ]
  },
  {
   "cell_type": "markdown",
   "metadata": {},
   "source": [
    "## 3.0  For Loop"
   ]
  },
  {
   "cell_type": "markdown",
   "metadata": {},
   "source": [
    "The for-loop is used with a sequence.\n",
    "The loop takes an item from the sequence, executes the statements within the loop, returns and takes the next item from the sequence.  This goes on until the sequence is empty.\n",
    "\n",
    "An simple illustration is given below.\n",
    "Let's say we have a sequence of prime numbers given as a list [1,2,3,5,7,11,13,17,19]\n",
    "We want to print out all the items in the list,  one at a time.\n",
    "\n",
    "The syntax is \n",
    "\n",
    "for item in sequence:\n",
    "    statement\n",
    "    \n",
    "Note that the line containing 'for' must end in ':'\n",
    "The statements to be executed must be indented.\n",
    "\n",
    "\n",
    "You can use any term for 'item' in the syntax above as illustrated below.\n",
    "\n",
    "Try to run the for-loop for the other two sequences, string and stringList, and see what you get to better understand how the loop works."
   ]
  },
  {
   "cell_type": "code",
   "execution_count": 6,
   "metadata": {},
   "outputs": [
    {
     "name": "stdout",
     "output_type": "stream",
     "text": [
      "1\n",
      "2\n",
      "3\n",
      "5\n",
      "7\n",
      "11\n",
      "13\n",
      "17\n",
      "19\n"
     ]
    }
   ],
   "source": [
    "primeNumbers = [1,2,3,5,7,11,13,17,19]\n",
    "string = \"Hello python\"\n",
    "stringList = [\"Hello python\"]\n",
    "for anything in primeNumbers :\n",
    "    print(anything)"
   ]
  },
  {
   "cell_type": "code",
   "execution_count": 7,
   "metadata": {},
   "outputs": [
    {
     "name": "stdout",
     "output_type": "stream",
     "text": [
      "H\n",
      "e\n",
      "l\n",
      "l\n",
      "o\n",
      " \n",
      "p\n",
      "y\n",
      "t\n",
      "h\n",
      "o\n",
      "n\n"
     ]
    }
   ],
   "source": [
    "for anything in string :\n",
    "    print(anything)"
   ]
  },
  {
   "cell_type": "code",
   "execution_count": 9,
   "metadata": {},
   "outputs": [
    {
     "name": "stdout",
     "output_type": "stream",
     "text": [
      "Hello python\n"
     ]
    }
   ],
   "source": [
    "for anything in stringList :\n",
    "    print(anything)"
   ]
  },
  {
   "cell_type": "markdown",
   "metadata": {},
   "source": [
    "The statement inside the for-block can be unrelated to the sequence as illustrated below."
   ]
  },
  {
   "cell_type": "code",
   "execution_count": 7,
   "metadata": {},
   "outputs": [
    {
     "name": "stdout",
     "output_type": "stream",
     "text": [
      "1\n",
      "2\n",
      "3\n",
      "4\n",
      "5\n"
     ]
    }
   ],
   "source": [
    "primeNumbers = [1,2,3,5,7]\n",
    "i=1\n",
    "for anything in primeNumbers :\n",
    "    print(i)\n",
    "    i += 1"
   ]
  },
  {
   "cell_type": "markdown",
   "metadata": {},
   "source": [
    "The for-loop works with any type of sequence. Remember that range is a sequence too and hence, can be used in the for-loop. "
   ]
  },
  {
   "cell_type": "code",
   "execution_count": 25,
   "metadata": {},
   "outputs": [
    {
     "name": "stdout",
     "output_type": "stream",
     "text": [
      "number of integers to be added up: 2\n",
      "3\n"
     ]
    }
   ],
   "source": [
    "n = int(input('number of integers to be added up: '))\n",
    "sum = 0\n",
    "for i in range(n+1):\n",
    "    sum += i\n",
    "print(sum)"
   ]
  },
  {
   "cell_type": "code",
   "execution_count": 21,
   "metadata": {},
   "outputs": [
    {
     "name": "stdout",
     "output_type": "stream",
     "text": [
      "1 2 3\n"
     ]
    },
    {
     "data": {
      "text/plain": [
       "[1, 2, 3]"
      ]
     },
     "execution_count": 21,
     "metadata": {},
     "output_type": "execute_result"
    }
   ],
   "source": [
    "a = input()\n",
    "b = map (int, a.split())\n",
    "list(b)"
   ]
  },
  {
   "cell_type": "code",
   "execution_count": 22,
   "metadata": {},
   "outputs": [
    {
     "data": {
      "text/plain": [
       "[]"
      ]
     },
     "execution_count": 22,
     "metadata": {},
     "output_type": "execute_result"
    }
   ],
   "source": [
    "list(b)"
   ]
  },
  {
   "cell_type": "code",
   "execution_count": 26,
   "metadata": {},
   "outputs": [
    {
     "name": "stdout",
     "output_type": "stream",
     "text": [
      "23 45 768975\n",
      "769043\n"
     ]
    }
   ],
   "source": [
    "num = map(int,input().split())\n",
    "#nums = map(int,num.split())\n",
    "total = 0\n",
    "for thomas in num:\n",
    "    total = total + thomas\n",
    "print(total)"
   ]
  },
  {
   "cell_type": "markdown",
   "metadata": {},
   "source": [
    "We can use the for loop with a dictionary too."
   ]
  },
  {
   "cell_type": "code",
   "execution_count": 29,
   "metadata": {},
   "outputs": [
    {
     "name": "stdout",
     "output_type": "stream",
     "text": [
      "Auckland 16\n",
      "Bangkok 26\n",
      "Canberra 9\n",
      "Dubai 35\n",
      "Frankfurt 12\n",
      "London 15\n",
      "Singapore 30\n"
     ]
    }
   ],
   "source": [
    "city = ('Auckland', 'Bangkok','Canberra', 'Dubai', 'Frankfurt', 'London','Singapore' )\n",
    "temp = (16, 26, 9,35, 12, 15, 30 )\n",
    "city_temp = dict(zip(city,temp))\n",
    "for k,v in city_temp.items():\n",
    "    print(k,v)"
   ]
  },
  {
   "cell_type": "markdown",
   "metadata": {},
   "source": [
    "If you do not use the .items() method, you are by default just using the key of the dictionary as below."
   ]
  },
  {
   "cell_type": "code",
   "execution_count": 31,
   "metadata": {},
   "outputs": [
    {
     "name": "stdout",
     "output_type": "stream",
     "text": [
      "Auckland 16\n",
      "Bangkok 26\n",
      "Canberra 9\n",
      "Dubai 35\n",
      "Frankfurt 12\n",
      "London 15\n",
      "Singapore 30\n"
     ]
    }
   ],
   "source": [
    "for k in city_temp:\n",
    "    print(k, city_temp[k])"
   ]
  },
  {
   "cell_type": "markdown",
   "metadata": {},
   "source": [
    "## 4.0  Changing Original Data in Loops"
   ]
  },
  {
   "cell_type": "markdown",
   "metadata": {},
   "source": [
    "The values in a mutable sequence, such as a list, can be changed.  However, the correct method must be used to effect the change.\n",
    "\n",
    "If you wish to change the values in a mutable sequence, change it by referencing the index and not by modifying the item that is storing the values."
   ]
  },
  {
   "cell_type": "markdown",
   "metadata": {},
   "source": [
    "\n",
    "Let's look at the list of prime numbers:[1,2,3,5,7,11,13,17,19]\n",
    "Suppose we want to add 1 to each of the value of the prime number\n",
    "In the illustration below, the variable item takes one value from the list prime numbers as the loop iterates.\n",
    "The variable item is changed by adding 1 to it (item += 1).\n",
    "This action does not change the list of prime numbers"
   ]
  },
  {
   "cell_type": "code",
   "execution_count": 27,
   "metadata": {},
   "outputs": [
    {
     "name": "stdout",
     "output_type": "stream",
     "text": [
      "2 3 4 6 8 12 14 18 20 \n",
      "\n",
      "[1, 2, 3, 5, 7, 11, 13, 17, 19]\n"
     ]
    }
   ],
   "source": [
    "primeNumbers = [1,2,3,5,7,11,13,17,19]\n",
    "for item in primeNumbers :\n",
    "    item += 1\n",
    "    print(item,end=' ')\n",
    "print('\\n')\n",
    "print(primeNumbers)"
   ]
  },
  {
   "cell_type": "markdown",
   "metadata": {},
   "source": [
    "We modify the values in the list, primeNumbers, through the index.\n",
    "\n",
    "Here we have the for loop iterate through the index from the first position (index = 0) to the last position (index = 8).  \n",
    "\n",
    "We count the number of index positions by using len(primeNumbers).  This will give us an answer of 9.\n",
    "\n",
    "Then we iterate using the for-loop through range (len(primeNumbers)) which is range(9)\n",
    "\n",
    "We change the elements by adding one to the value that is in each position.\n",
    "\n",
    "  primeNumbers[item] =+=1\n",
    "\n",
    "Here the item carries the index position from 0 to 8 through the iterations.\n",
    "\n",
    "This is illustrated below."
   ]
  },
  {
   "cell_type": "code",
   "execution_count": 10,
   "metadata": {},
   "outputs": [
    {
     "name": "stdout",
     "output_type": "stream",
     "text": [
      "0 1 2 3 4 5 6 7 8 \n",
      "\n",
      "[2, 3, 4, 6, 8, 12, 14, 18, 20] \n",
      "\n",
      "2 3 4 6 8 12 14 18 20\n"
     ]
    }
   ],
   "source": [
    "primeNumbers = [1,2,3,5,7,11,13,17,19]\n",
    "for item in range(len(primeNumbers)) :\n",
    "    primeNumbers[item] +=1\n",
    "    print(item, end = ' ')\n",
    "print('\\n')\n",
    "print(primeNumbers,'\\n')\n",
    "print(' '.join(map(str,primeNumbers)))  #this prints without the list formatting"
   ]
  },
  {
   "cell_type": "markdown",
   "metadata": {},
   "source": [
    "## 5.0  break and continue Command"
   ]
  },
  {
   "cell_type": "markdown",
   "metadata": {},
   "source": [
    "The break statement is used together with loops when the query we have is answered mid-way through the loop.  There is no necessity for the program to run through the completion of all the iterations in the loop.\n",
    "\n",
    "In the illustration below, we want to test whether a given integer is a prime number.  \n",
    "We use the for-loop to iterate over the numbers from 2 to n-1 (where n is the given integer).\n",
    "\n",
    "We use the modulo division (%) to test whether the number, n is divisible by any number less than n (other than 1).  If it is, then it is not a prime number.  \n",
    "\n",
    "Once we find a first number for which n is divisible by (that is the modulo is 0), we have the answer, that is, n is not a prime number.  We do not need to continue with the for loop.\n",
    "\n",
    "This is where the 'break' command comes in.  When the program encounters the break command, it gets out of the for-loop.  The rest of the iteration is not executed.\n",
    "\n",
    "The else statement is executed only when the 'if' statement is never true for the entire iteration of the for- loop.  This implies that a divisor of n cannot be found and n is a prime number."
   ]
  },
  {
   "cell_type": "code",
   "execution_count": 13,
   "metadata": {},
   "outputs": [
    {
     "name": "stdout",
     "output_type": "stream",
     "text": [
      "Enter the integer you wish to test whether is a prime number: 9\n",
      "9 is divisible by 3\n",
      "9 is not a prime number\n"
     ]
    }
   ],
   "source": [
    "n= int(input('Enter the integer you wish to test whether is a prime number: '))\n",
    "for i in range(2,int(n/2)):\n",
    "    if n%i == 0:\n",
    "        print(n, 'is divisible by',i)\n",
    "        print(n, 'is not a prime number')\n",
    "        break\n",
    "else:\n",
    "    print (str(n) + ' is a prime number')"
   ]
  },
  {
   "cell_type": "markdown",
   "metadata": {},
   "source": [
    "Note the placement of the \"else:\" above.  It is not indented by at the same level as for.\n",
    "\n",
    "See what happens if it is indented.  It is executed at each loop everytime the \"if\" condition is false."
   ]
  },
  {
   "cell_type": "code",
   "execution_count": 12,
   "metadata": {},
   "outputs": [
    {
     "name": "stdout",
     "output_type": "stream",
     "text": [
      "Enter the integer you wish to test whether is a prime number: 9\n",
      "9 is a prime number\n",
      "9 is divisible by 3\n",
      "9 is not a prime number\n"
     ]
    }
   ],
   "source": [
    "n= int(input('Enter the integer you wish to test whether is a prime number: '))\n",
    "for i in range(2,int(n/2)):\n",
    "    if n%i == 0:\n",
    "        print(n, 'is divisible by',i)\n",
    "        print(n, 'is not a prime number')\n",
    "        break\n",
    "    else:\n",
    "        print (str(n) + ' is a prime number')"
   ]
  },
  {
   "cell_type": "markdown",
   "metadata": {},
   "source": [
    "The continue statement can also be used in a loop.  Once the program encounters the continue statement during an iteration in the loop, it will end that particular iteration and go directly to the next iteration.\n",
    "\n",
    "This is useful when a number of conditions have to be all fulfilled.  We can test for each condition sequentially.  If any of the condition fails, we continue to the next iteration.  There is no need to test for the subsequent conditions.\n",
    "\n",
    "The illustration below shows the use of the continue statement.\n",
    "\n",
    "For example, you want to find and print out all the integers between 1 and n (which you define) that fulfils the following conditions together:\n",
    "(i)  to have a remainder of 1 when divided by 2; and\n",
    "(ii) to have a remainder of 2 when divided by 3.\n",
    "\n",
    "We use the for-loop to test all the integers between 1 and n to see whether they meet the two conditions simultaneously.\n",
    "\n",
    "Each integer is tested at each iteration starting from 1.\n",
    "\n",
    "The integer is first tested on the first condition - whether a remainder of 1 is obtained after dividing by 2.  If it fails this first condition (i%2 != 1) (implies remainder is not equal (!=) to 1)there is not point testing whether the integer fulfils the second condition.  Thus, the continue statement is executed.  The particular iteration for the integer is ended and the program goes to the top of the for-loop to get the next integer for testing.\n",
    "\n",
    "Note that the same structure of testing is carried out for the second condition.\n",
    "\n",
    "The print statement is executed only for the integer that fulfils both condition (both the if statements in the for-block returns False). "
   ]
  },
  {
   "cell_type": "code",
   "execution_count": 14,
   "metadata": {},
   "outputs": [
    {
     "name": "stdout",
     "output_type": "stream",
     "text": [
      "5 11 17 23 29 "
     ]
    }
   ],
   "source": [
    "n= int(input('Enter the integer you wish to test up to: '))\n",
    "for i in range(1,n+1):\n",
    "    if i%2 !=1:\n",
    "        continue\n",
    "    if i%3 != 2:\n",
    "        continue\n",
    "    print(i, end = ' ')"
   ]
  },
  {
   "cell_type": "markdown",
   "metadata": {},
   "source": [
    "We can use a both the break and continue statement together.  We may want to determine the identity of something that __first__ fulfils multiple conditions but not care about subsequent items that fuifl the same conditions.\n",
    "\n",
    "The continue statements are used to test each item to determine if it fulfils the all the conditions specified.  Once the __first__ item that fulfils all the conditions is found, the break statement stops the iteration.\n",
    "\n",
    "The illustration below finds the least positive integer (or the __first__ positive integer) that fulfils the conditions below.  Once this first positive integer is found, we want to exit the loop.\n",
    "The conditions are:\n",
    "(i) the remainder is 1 when divided by 2;\n",
    "(ii) the remainder is 2 when divided by 3;\n",
    "(iii) the remainder is 4 when divided by 5;\n",
    "\n",
    "Note we use the condition __while 1:__\n",
    "\n",
    "The while-loop will execute as long as the condition (here 1) is true.  Also recall that any non-zero integer has a boolean value of true (so the 1 can be replaced by any non-zero number or string.  Try it).  There is no stopping condition here as we do not know the upper bound of the number we are looking for.\n",
    "***"
   ]
  },
  {
   "cell_type": "code",
   "execution_count": 14,
   "metadata": {},
   "outputs": [
    {
     "name": "stdout",
     "output_type": "stream",
     "text": [
      "29\n"
     ]
    }
   ],
   "source": [
    "\n",
    "\n",
    "i = 0\n",
    "\n",
    "while 'gupta':\n",
    "    i += 1\n",
    "    if i%2 != 1 : continue\n",
    "    if i%3 != 2 : continue\n",
    "    if i%5 != 4 : continue\n",
    "    print(i)\n",
    "    break"
   ]
  },
  {
   "cell_type": "code",
   "execution_count": null,
   "metadata": {
    "collapsed": true
   },
   "outputs": [],
   "source": []
  }
 ],
 "metadata": {
  "kernelspec": {
   "display_name": "Python 3",
   "language": "python",
   "name": "python3"
  },
  "language_info": {
   "codemirror_mode": {
    "name": "ipython",
    "version": 3
   },
   "file_extension": ".py",
   "mimetype": "text/x-python",
   "name": "python",
   "nbconvert_exporter": "python",
   "pygments_lexer": "ipython3",
   "version": "3.6.3"
  }
 },
 "nbformat": 4,
 "nbformat_minor": 2
}
