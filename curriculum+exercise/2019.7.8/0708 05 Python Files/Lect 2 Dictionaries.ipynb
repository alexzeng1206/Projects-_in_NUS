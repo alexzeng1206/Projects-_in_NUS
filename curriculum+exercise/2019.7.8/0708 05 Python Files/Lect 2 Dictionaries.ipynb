{
 "cells": [
  {
   "cell_type": "markdown",
   "metadata": {},
   "source": [
    "## 1.0  Introduction to Dictionary"
   ]
  },
  {
   "cell_type": "markdown",
   "metadata": {},
   "source": [
    "Let's create a variable, temps, containing a list of temperature of the following cities:  Amsterdam, Hong Kong, London, San Francisco, Singapore.  This was taken from a website on May 9, 2018."
   ]
  },
  {
   "cell_type": "code",
   "execution_count": 1,
   "metadata": {
    "collapsed": true
   },
   "outputs": [],
   "source": [
    "temps = [17, 26, 9, 20, 34]"
   ]
  },
  {
   "cell_type": "code",
   "execution_count": 2,
   "metadata": {},
   "outputs": [
    {
     "data": {
      "text/plain": [
       "34"
      ]
     },
     "execution_count": 2,
     "metadata": {},
     "output_type": "execute_result"
    }
   ],
   "source": [
    "temps[4]  #use index to extract temperature of Singapore"
   ]
  },
  {
   "cell_type": "markdown",
   "metadata": {},
   "source": [
    "Note that when a list is used above, you must remember the index position for each city to extract the temperature for that city.  The alternative is to use a dictionary where the value of the temperature is attached to a city.\n",
    "The data for a dictionary is entered in pairs:  what we call a key-value pair.  In this case, the city is the key and the city's temperature is the value.  \n",
    "A dictionary is defined by enclosing the key-value pair is curly brackets:  {  }\n",
    "The illustration below is a dictionary of the temperatures of the cities that we list above."
   ]
  },
  {
   "cell_type": "code",
   "execution_count": 13,
   "metadata": {
    "collapsed": true
   },
   "outputs": [],
   "source": [
    "cityTemps = {'Amsterdam':17, 'Hong Kong':26, 'London':9,\n",
    "             'San Francisco':20, 'Singapore':34}"
   ]
  },
  {
   "cell_type": "markdown",
   "metadata": {},
   "source": [
    "To use the dictionary to extract the temperature of a country, just call the country name as a subscript to the variable.  \n",
    "In the dictionary, the general syntax for accessing a data is:  d['key'], where d is the name of the dictionary (cityTemps in this illustration) and 'key' is a specific country name."
   ]
  },
  {
   "cell_type": "code",
   "execution_count": 14,
   "metadata": {},
   "outputs": [
    {
     "data": {
      "text/plain": [
       "34"
      ]
     },
     "execution_count": 14,
     "metadata": {},
     "output_type": "execute_result"
    }
   ],
   "source": [
    "cityTemps['Singapore']"
   ]
  },
  {
   "cell_type": "markdown",
   "metadata": {},
   "source": [
    "Below are two alternative methods of defining a dictionary.  The first method defines it using the function dict, and assigning the values to the keys using the \"=\" sign.\n",
    "The second method takes two lists, one containing the key (city) and the other the value (temps) and combines them using the zip function.  The results of the combined list is then defined as a dictionary by the dict function."
   ]
  },
  {
   "cell_type": "code",
   "execution_count": 14,
   "metadata": {},
   "outputs": [
    {
     "data": {
      "text/plain": [
       "26"
      ]
     },
     "execution_count": 14,
     "metadata": {},
     "output_type": "execute_result"
    }
   ],
   "source": [
    "cityTempsEqual = dict(Amsterdam=17, HongKong=26, London=9,\n",
    "             SanFrancisco=20, Singapore=34)\n",
    "cityTempsEqual['HongKong']"
   ]
  },
  {
   "cell_type": "code",
   "execution_count": 30,
   "metadata": {},
   "outputs": [
    {
     "data": {
      "text/plain": [
       "{'Amsterdam': 17,\n",
       " 'Hong Kong': 26,\n",
       " 'London': 9,\n",
       " 'San Francisco': 20,\n",
       " 'Singapore': 34}"
      ]
     },
     "execution_count": 30,
     "metadata": {},
     "output_type": "execute_result"
    }
   ],
   "source": [
    "temps = [17, 26, 9, 20, 34]\n",
    "city = ['Amsterdam', 'Hong Kong', 'London', 'San Francisco', 'Singapore']\n",
    "cityTempsZip = dict(zip(city,temps))\n",
    "cityTempsZip"
   ]
  },
  {
   "cell_type": "markdown",
   "metadata": {},
   "source": [
    "## 2.0 Dictionary Operations"
   ]
  },
  {
   "cell_type": "markdown",
   "metadata": {},
   "source": [
    "You can access the data stored in the dictionary by using the .item() method.  The output contains both the key and value.  Note that the output is not in the order that you entered the data.  We will deal this lack of order a little later."
   ]
  },
  {
   "cell_type": "code",
   "execution_count": 31,
   "metadata": {},
   "outputs": [
    {
     "data": {
      "text/plain": [
       "dict_items([('London', 9), ('Amsterdam', 17), ('Singapore', 34), ('San Francisco', 20), ('Hong Kong', 26)])"
      ]
     },
     "execution_count": 31,
     "metadata": {},
     "output_type": "execute_result"
    }
   ],
   "source": [
    "cityTemps.items()"
   ]
  },
  {
   "cell_type": "markdown",
   "metadata": {},
   "source": [
    "You do not have to access both the keys and the values at the same time.  If you wish to access just the keys, use the .keys() method.  If you wish to access just the values, use the .values() method.  "
   ]
  },
  {
   "cell_type": "code",
   "execution_count": 31,
   "metadata": {},
   "outputs": [
    {
     "data": {
      "text/plain": [
       "dict_keys(['Hong Kong', 'Sydney', 'Amsterdam', 'San Francisco', 'Singapore', 'London'])"
      ]
     },
     "execution_count": 31,
     "metadata": {},
     "output_type": "execute_result"
    }
   ],
   "source": [
    "cityTemps.keys()"
   ]
  },
  {
   "cell_type": "code",
   "execution_count": 32,
   "metadata": {},
   "outputs": [
    {
     "data": {
      "text/plain": [
       "dict_values([26, 23, 17, 20, 34, 9])"
      ]
     },
     "execution_count": 32,
     "metadata": {},
     "output_type": "execute_result"
    }
   ],
   "source": [
    "cityTemps.values()"
   ]
  },
  {
   "cell_type": "markdown",
   "metadata": {},
   "source": [
    "New key-pair are easily added to an existing dictionary by the normal assignment.  Define a new key ('Sydney') within the dictionary (cityTemps), and assign its value (23)"
   ]
  },
  {
   "cell_type": "code",
   "execution_count": 21,
   "metadata": {},
   "outputs": [
    {
     "data": {
      "text/plain": [
       "{'Amsterdam': 17,\n",
       " 'Hong Kong': 26,\n",
       " 'London': 9,\n",
       " 'San Francisco': 20,\n",
       " 'Singapore': 34,\n",
       " 'Sydney': 23}"
      ]
     },
     "execution_count": 21,
     "metadata": {},
     "output_type": "execute_result"
    }
   ],
   "source": [
    "cityTemps['Sydney']=23\n",
    "cityTemps"
   ]
  },
  {
   "cell_type": "markdown",
   "metadata": {},
   "source": [
    "Use the del function to remove a key-pair from a dictionary.  It is sufficient to identify just the key of the key-pair to be removed."
   ]
  },
  {
   "cell_type": "code",
   "execution_count": 22,
   "metadata": {},
   "outputs": [
    {
     "data": {
      "text/plain": [
       "{'Amsterdam': 17,\n",
       " 'Hong Kong': 26,\n",
       " 'London': 9,\n",
       " 'San Francisco': 20,\n",
       " 'Singapore': 34}"
      ]
     },
     "execution_count": 22,
     "metadata": {},
     "output_type": "execute_result"
    }
   ],
   "source": [
    "del cityTemps['Sydney']\n",
    "cityTemps"
   ]
  },
  {
   "cell_type": "markdown",
   "metadata": {},
   "source": [
    "As discussed before, it is easy to access the dictionary data by calling its key.  "
   ]
  },
  {
   "cell_type": "code",
   "execution_count": 45,
   "metadata": {},
   "outputs": [
    {
     "data": {
      "text/plain": [
       "34"
      ]
     },
     "execution_count": 45,
     "metadata": {},
     "output_type": "execute_result"
    }
   ],
   "source": [
    "cityTemps['Singapore']"
   ]
  },
  {
   "cell_type": "markdown",
   "metadata": {},
   "source": [
    "However, if the key is not found in the dictionary, an error is returned.  If you have a program that accesses the dictionary data through the keys multiple times, with possibly different keys being called each time, then an error will stop the program.  This interruption to the program may not be desirable in certain circumstances."
   ]
  },
  {
   "cell_type": "code",
   "execution_count": 46,
   "metadata": {},
   "outputs": [
    {
     "ename": "KeyError",
     "evalue": "'Berlin'",
     "output_type": "error",
     "traceback": [
      "\u001b[1;31m---------------------------------------------------------------------------\u001b[0m",
      "\u001b[1;31mKeyError\u001b[0m                                  Traceback (most recent call last)",
      "\u001b[1;32m<ipython-input-46-63278bcb9c0e>\u001b[0m in \u001b[0;36m<module>\u001b[1;34m()\u001b[0m\n\u001b[1;32m----> 1\u001b[1;33m \u001b[0mcityTemps\u001b[0m\u001b[1;33m[\u001b[0m\u001b[1;34m'Berlin'\u001b[0m\u001b[1;33m]\u001b[0m\u001b[1;33m\u001b[0m\u001b[0m\n\u001b[0m",
      "\u001b[1;31mKeyError\u001b[0m: 'Berlin'"
     ]
    }
   ],
   "source": [
    "cityTemps['Berlin']"
   ]
  },
  {
   "cell_type": "markdown",
   "metadata": {},
   "source": [
    "To prevent an error being returned and program stopping because of attempts to call a key that is not in the dictionary, we use a .get() method with a default value.  \n",
    "\n",
    "The syntax is as follows.\n",
    "d.get('key',defualt value) where d is the name of the dictionary.\n",
    "\n",
    "The first argument in the .get() method is the key that we want to search for.  If it is found, the value attached to that key is returned.  The second argument of the .get() method is the default value returned when the key is not found.\n",
    "\n",
    "We illustrate the use of the method below."
   ]
  },
  {
   "cell_type": "code",
   "execution_count": 48,
   "metadata": {},
   "outputs": [
    {
     "data": {
      "text/plain": [
       "34"
      ]
     },
     "execution_count": 48,
     "metadata": {},
     "output_type": "execute_result"
    }
   ],
   "source": [
    "cityTemps.get('Singapore','Temperature not listed')"
   ]
  },
  {
   "cell_type": "code",
   "execution_count": 49,
   "metadata": {},
   "outputs": [
    {
     "data": {
      "text/plain": [
       "'Temperature not listed'"
      ]
     },
     "execution_count": 49,
     "metadata": {},
     "output_type": "execute_result"
    }
   ],
   "source": [
    "cityTemps.get('Berlin','Temperature not listed')"
   ]
  },
  {
   "cell_type": "markdown",
   "metadata": {},
   "source": [
    "## 3.0 Ordering Dictionary Data"
   ]
  },
  {
   "cell_type": "markdown",
   "metadata": {},
   "source": [
    "Assume that the data below is the number of clients in each of the 6 months shown.  We print the data and realise that it is not in the order they are entered.  This does not make sense for us.  We wish our data to be ordered as Jan, Feb, Mar ... "
   ]
  },
  {
   "cell_type": "code",
   "execution_count": 1,
   "metadata": {},
   "outputs": [
    {
     "name": "stdout",
     "output_type": "stream",
     "text": [
      "Mar 14\n",
      "Jun 6\n",
      "Jan 10\n",
      "Apr 12\n",
      "Feb 9\n",
      "May 5\n"
     ]
    }
   ],
   "source": [
    "clientNumber = {'Jan': 10, 'Feb': 9, 'Mar': 14, \n",
    "                'Apr': 12, 'May': 5, 'Jun': 6}\n",
    "for month in clientNumber:\n",
    "    print(month, clientNumber[month])"
   ]
  },
  {
   "cell_type": "markdown",
   "metadata": {
    "collapsed": true
   },
   "source": [
    "An alternative way of looking at the data by using list()"
   ]
  },
  {
   "cell_type": "code",
   "execution_count": 28,
   "metadata": {},
   "outputs": [
    {
     "data": {
      "text/plain": [
       "[('Mar', 14), ('Jun', 6), ('Jan', 10), ('Apr', 12), ('Feb', 9), ('May', 5)]"
      ]
     },
     "execution_count": 28,
     "metadata": {},
     "output_type": "execute_result"
    }
   ],
   "source": [
    "clientNumber = {'Jan': 10, 'Feb': 9, 'Mar': 14, \n",
    "                'Apr': 12, 'May': 5, 'Jun': 6}\n",
    "list(clientNumber.items())"
   ]
  },
  {
   "cell_type": "markdown",
   "metadata": {},
   "source": [
    "To solve this problem, we use the sort function to see if it works.  The example shows that it does not work as it sorts by alphabetical order. "
   ]
  },
  {
   "cell_type": "code",
   "execution_count": 52,
   "metadata": {},
   "outputs": [
    {
     "name": "stdout",
     "output_type": "stream",
     "text": [
      "Apr 12\n",
      "Feb 9\n",
      "Jan 10\n",
      "Jun 6\n",
      "Mar 14\n",
      "May 5\n"
     ]
    }
   ],
   "source": [
    "for month in sorted(clientNumber):\n",
    "    print(month, clientNumber[month])"
   ]
  },
  {
   "cell_type": "markdown",
   "metadata": {},
   "source": [
    "In our example, the order of the keys (months) in the keys-value pairs are important.  We wish to preserve the order in which they are entered.  \n",
    "\n",
    "This is normally the case for data read in from a database when we wish to preserve the order in which they are read.   \n",
    "We can use the OrderedDict function.  \n",
    "\n",
    "OrderedDict is a function within the collections module and must be imported before it can be used.\n",
    "\n",
    "The key-value pair is entered as a tuple (enclosed by ()) in the OrderedDict function.  The function can take only one argument so multiple tuples must be all combined into one list (encloded by []).  \n",
    "\n",
    "The order in which the data is entered into the dictionary is preserved."
   ]
  },
  {
   "cell_type": "code",
   "execution_count": 2,
   "metadata": {},
   "outputs": [
    {
     "name": "stdout",
     "output_type": "stream",
     "text": [
      "Jan 10\n",
      "Feb 9\n",
      "Mar 14\n",
      "Apr 12\n",
      "May 5\n",
      "Jun 6\n"
     ]
    }
   ],
   "source": [
    "from collections import OrderedDict\n",
    "clientNumberOrdered = OrderedDict([('Jan', 10), ('Feb', 9), ('Mar', 14), \n",
    "                                   ('Apr', 12), ('May', 5), ('Jun', 6)])\n",
    "for month in clientNumberOrdered:\n",
    "    print(month, clientNumberOrdered[month])"
   ]
  },
  {
   "cell_type": "markdown",
   "metadata": {},
   "source": [
    "An alterantive way of entering the data in a dictionary (here we use OrderedDict function) is given below.  It looks unwieldly here but this is what actually happens if you read data in line by line from a database.\n",
    "You must first define as empty dictionary before trying to fill it up with data in the manner shown below. "
   ]
  },
  {
   "cell_type": "code",
   "execution_count": 58,
   "metadata": {},
   "outputs": [
    {
     "data": {
      "text/plain": [
       "OrderedDict([('Jan', 10),\n",
       "             ('Feb', 9),\n",
       "             ('Mar', 14),\n",
       "             ('Apr', 12),\n",
       "             ('May', 5),\n",
       "             ('Jun', 6)])"
      ]
     },
     "execution_count": 58,
     "metadata": {},
     "output_type": "execute_result"
    }
   ],
   "source": [
    "clientNumberOrderedAlt = OrderedDict()    #define an empty OrderedDict dictionary\n",
    "clientNumberOrderedAlt['Jan'] = 10\n",
    "clientNumberOrderedAlt['Feb'] = 9\n",
    "clientNumberOrderedAlt['Mar'] = 14\n",
    "clientNumberOrderedAlt['Apr'] = 12\n",
    "clientNumberOrderedAlt['May'] = 5\n",
    "clientNumberOrderedAlt['Jun'] = 6\n",
    "clientNumberOrderedAlt\n"
   ]
  },
  {
   "cell_type": "markdown",
   "metadata": {},
   "source": [
    "## 4.0 Neat Things You Can Do With A Dictionary"
   ]
  },
  {
   "cell_type": "markdown",
   "metadata": {},
   "source": [
    "### 4.1  Sparse Matrices"
   ]
  },
  {
   "cell_type": "markdown",
   "metadata": {},
   "source": [
    "Suppose you have a 5x5 matrix and only 3 elements are non-zeros.  Matrices of this nature whereby most of the elements are zeros are called sparse matrix.\n",
    "\n",
    "This matrix is represented as a list below.  However, this is a very inefficient method of representing a sparse matrix with a lot os 0's.\n",
    "\n",
    "matrix = [[0, 0, 0, 1, 0],\n",
    "          [0, 0, 0, 0, 0],\n",
    "          [0, 2, 0, 0, 0],\n",
    "          [0, 0, 0, 0, 0],\n",
    "          [0, 0, 0, 3, 0]]\n",
    "\n",
    "An alternative is to use a dictionary representation.\n",
    "\n",
    "The keys will be a tuple containing the row and column positions of the non-zero elements.\n",
    "\n",
    "Since there are only three non-zero elements, we need only three key-value pairs for this sparse matrix.\n",
    "\n",
    "The non-zero elemtents are at the following positions:\n",
    "(0,3) , (2,1) and (4,3) where the tuples represent (row index, column index).  The values of the non-zero elements in those positions are 1, 2 and 3 respectively.\n",
    "\n",
    "Below is the dictionary representation of the sparse matrix."
   ]
  },
  {
   "cell_type": "code",
   "execution_count": 1,
   "metadata": {},
   "outputs": [
    {
     "data": {
      "text/plain": [
       "3"
      ]
     },
     "execution_count": 1,
     "metadata": {},
     "output_type": "execute_result"
    }
   ],
   "source": [
    "matrix = {(0,3):1 , (2,1):2 , (4,3):3}\n",
    "matrix[(4,3)]"
   ]
  },
  {
   "cell_type": "markdown",
   "metadata": {},
   "source": [
    "Obviously, there is a high probability that a key in a sparse matrix is not in the dictionary.  In the above 5x5 matrix, there are only 3 cells with non-zero values.  The other 22 cells (row index, column index) will not be in the dictionary.\n",
    "\n",
    "For example, the element in first row, first column (0, 0) is not in dictionary.\n",
    "\n",
    "To prevent an error when we call key not in the dictionary, we use the .get() method and put 0 as the default values - that is, calling those row and column indexes not in the dictionary will result in a 0 being returned - which is the real value of that cell.\n",
    "\n",
    "An illustration is provided below.\n",
    "\n",
    "Calling (0,3) returns its value of 1.  \n",
    "Calling the non-existent (0,0) returns the default value of 0."
   ]
  },
  {
   "cell_type": "code",
   "execution_count": 20,
   "metadata": {},
   "outputs": [
    {
     "name": "stdout",
     "output_type": "stream",
     "text": [
      "1 \n",
      " 0\n"
     ]
    }
   ],
   "source": [
    "print(matrix.get((0,3),0),'\\n',\n",
    "\n",
    "matrix.get((0,0),0))"
   ]
  },
  {
   "cell_type": "markdown",
   "metadata": {},
   "source": [
    "### 4.2 Counting "
   ]
  },
  {
   "cell_type": "markdown",
   "metadata": {},
   "source": [
    "Dictionaries provide an elegant way to count the number of occurrences of letters or digits in a string.  \n",
    "This can be used to generate frequency tables.\n",
    "An illustration is given in the code below.\n",
    "\n",
    "We first define a dictionary named letter_counts\n",
    "The string that we want to count the occurrence of letter in this case is 'Mississippi'\n",
    "Define a for loop to take one letter in seqeunce from the string 'Mississippi', starting with the letter 'M'.\n",
    "\n",
    "Let us take a look at the expression:\n",
    "\n",
    "    letter_counts[letter]=letter_counts.get(letter,0)+1\n",
    "\n",
    "The left hand side letter_counts[letter] treats letter as the key of the dictionary letter_counts.  The key attached to the name letter varies with each iteration of the 'for' loop.  The key (letter) in the first iteration is 'M'.  In the second iteration, the key (letter) is 'i' and so on.\n",
    "\n",
    "Since we take one letter from the enitre word for each iteration, we add 1 to the count of that letter taken.  This is what the right hand side of the expression does (the '+1') part.\n",
    "\n",
    "The letter_counts.get(letter,0) part of the right hand side of the expression have two choices of output - if the key that is attached to the variable letter is found, it is already in the dictionary with a value (which is number of occurrences up to the current iteration).  Just add 1 to the existing value.\n",
    "\n",
    "If the key is not found in the dictionary, this will be the first time it occurs.  The expression letter_counts.get(letter,0) will reutrn a value of 0 and the addition of 1 to letter_counts[letter] puts the key into the dictionary with a value of 1."
   ]
  },
  {
   "cell_type": "code",
   "execution_count": 23,
   "metadata": {},
   "outputs": [
    {
     "data": {
      "text/plain": [
       "{'M': 1, 'i': 4, 'p': 2, 's': 4}"
      ]
     },
     "execution_count": 23,
     "metadata": {},
     "output_type": "execute_result"
    }
   ],
   "source": [
    "letter_counts = {}\n",
    "for letter in 'Mississippi':\n",
    "    letter_counts[letter]=letter_counts.get(letter,0)+1\n",
    "letter_counts"
   ]
  },
  {
   "cell_type": "markdown",
   "metadata": {},
   "source": [
    "There is a built-in function for counting.  It is called Counter and can be imported from the collections module."
   ]
  },
  {
   "cell_type": "code",
   "execution_count": 28,
   "metadata": {},
   "outputs": [
    {
     "data": {
      "text/plain": [
       "Counter({'M': 1, 'i': 4, 'p': 1, 's': 4})"
      ]
     },
     "execution_count": 28,
     "metadata": {},
     "output_type": "execute_result"
    }
   ],
   "source": [
    "from collections import Counter\n",
    "Counter('Mississipi')"
   ]
  },
  {
   "cell_type": "markdown",
   "metadata": {},
   "source": [
    "You can use the command below if you are case-insensitve. "
   ]
  },
  {
   "cell_type": "code",
   "execution_count": 29,
   "metadata": {},
   "outputs": [
    {
     "data": {
      "text/plain": [
       "Counter({' ': 2,\n",
       "         'A': 1,\n",
       "         'V': 1,\n",
       "         'a': 3,\n",
       "         'd': 1,\n",
       "         'e': 1,\n",
       "         'l': 3,\n",
       "         'n': 1,\n",
       "         'o': 1,\n",
       "         'r': 2})"
      ]
     },
     "execution_count": 29,
     "metadata": {},
     "output_type": "execute_result"
    }
   ],
   "source": [
    "from collections import Counter\n",
    "Counter('Andorra la Vella')     #case sensitive"
   ]
  },
  {
   "cell_type": "code",
   "execution_count": 32,
   "metadata": {},
   "outputs": [
    {
     "data": {
      "text/plain": [
       "Counter({' ': 2,\n",
       "         'a': 4,\n",
       "         'd': 1,\n",
       "         'e': 1,\n",
       "         'l': 3,\n",
       "         'n': 1,\n",
       "         'o': 1,\n",
       "         'r': 2,\n",
       "         'v': 1})"
      ]
     },
     "execution_count": 32,
     "metadata": {},
     "output_type": "execute_result"
    }
   ],
   "source": [
    "Counter(map(str.lower,'Andorra la Vella'))     #case insensitive"
   ]
  }
 ],
 "metadata": {
  "kernelspec": {
   "display_name": "Python 3",
   "language": "python",
   "name": "python3"
  },
  "language_info": {
   "codemirror_mode": {
    "name": "ipython",
    "version": 3
   },
   "file_extension": ".py",
   "mimetype": "text/x-python",
   "name": "python",
   "nbconvert_exporter": "python",
   "pygments_lexer": "ipython3",
   "version": "3.6.3"
  }
 },
 "nbformat": 4,
 "nbformat_minor": 2
}
